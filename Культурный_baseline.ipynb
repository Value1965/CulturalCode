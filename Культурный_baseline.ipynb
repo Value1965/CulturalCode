{
  "cells": [
    {
      "cell_type": "markdown",
      "metadata": {
        "id": "view-in-github",
        "colab_type": "text"
      },
      "source": [
        "<a href=\"https://colab.research.google.com/github/Value1965/CulturalCode/blob/main/%D0%9A%D1%83%D0%BB%D1%8C%D1%82%D1%83%D1%80%D0%BD%D1%8B%D0%B9_baseline.ipynb\" target=\"_parent\"><img src=\"https://colab.research.google.com/assets/colab-badge.svg\" alt=\"Open In Colab\"/></a>"
      ]
    },
    {
      "cell_type": "code",
      "execution_count": null,
      "metadata": {
        "id": "STCVfxWQ24zJ"
      },
      "outputs": [],
      "source": []
    },
    {
      "cell_type": "code",
      "execution_count": 1,
      "metadata": {
        "colab": {
          "base_uri": "https://localhost:8080/"
        },
        "id": "508iOdS-27ai",
        "outputId": "67a57fcb-be85-48cc-b688-e432284dedc8"
      },
      "outputs": [
        {
          "output_type": "stream",
          "name": "stdout",
          "text": [
            "Mounted at /content/drive\n"
          ]
        }
      ],
      "source": [
        "from google.colab import drive\n",
        "drive.mount('/content/drive')"
      ]
    },
    {
      "cell_type": "markdown",
      "metadata": {
        "id": "FH0ZYdNyQzug"
      },
      "source": [
        "## Загрузим нужные библиотеки"
      ]
    },
    {
      "cell_type": "code",
      "execution_count": 2,
      "metadata": {
        "colab": {
          "base_uri": "https://localhost:8080/"
        },
        "id": "BwNGqMidQiRi",
        "outputId": "105682a7-29be-49fa-91e6-ba7222ac5922"
      },
      "outputs": [
        {
          "output_type": "stream",
          "name": "stdout",
          "text": [
            "Looking in indexes: https://pypi.org/simple, https://us-python.pkg.dev/colab-wheels/public/simple/\n",
            "Collecting navec\n",
            "  Downloading navec-0.10.0-py3-none-any.whl (23 kB)\n",
            "Requirement already satisfied: numpy in /usr/local/lib/python3.7/dist-packages (from navec) (1.21.6)\n",
            "Installing collected packages: navec\n",
            "Successfully installed navec-0.10.0\n",
            "--2022-10-04 03:08:20--  https://storage.yandexcloud.net/natasha-navec/packs/navec_hudlit_v1_12B_500K_300d_100q.tar\n",
            "Resolving storage.yandexcloud.net (storage.yandexcloud.net)... 213.180.193.243, 2a02:6b8::1d9\n",
            "Connecting to storage.yandexcloud.net (storage.yandexcloud.net)|213.180.193.243|:443... connected.\n",
            "HTTP request sent, awaiting response... 200 OK\n",
            "Length: 53012480 (51M) [application/x-tar]\n",
            "Saving to: ‘navec_hudlit_v1_12B_500K_300d_100q.tar’\n",
            "\n",
            "navec_hudlit_v1_12B 100%[===================>]  50.56M  16.5MB/s    in 3.1s    \n",
            "\n",
            "2022-10-04 03:08:24 (16.5 MB/s) - ‘navec_hudlit_v1_12B_500K_300d_100q.tar’ saved [53012480/53012480]\n",
            "\n"
          ]
        }
      ],
      "source": [
        "import pandas as pd\n",
        "import seaborn as sns\n",
        "import matplotlib.pyplot as plt\n",
        "from sklearn.model_selection import train_test_split\n",
        "from sklearn.ensemble import RandomForestClassifier\n",
        "import numpy as np \n",
        "from tqdm import tqdm\n",
        "\n",
        "%matplotlib inline\n",
        "!pip install navec\n",
        "!wget https://storage.yandexcloud.net/natasha-navec/packs/navec_hudlit_v1_12B_500K_300d_100q.tar\n",
        "from navec import Navec\n",
        "from sklearn.metrics.pairwise import cosine_similarity,cosine_distances"
      ]
    },
    {
      "cell_type": "code",
      "execution_count": 3,
      "metadata": {
        "id": "aA0XQFNLLHli"
      },
      "outputs": [],
      "source": [
        "path = '/content/navec_hudlit_v1_12B_500K_300d_100q.tar'\n",
        "navec = Navec.load(path)"
      ]
    },
    {
      "cell_type": "code",
      "execution_count": 4,
      "metadata": {
        "id": "3TZUcuZ33rM5"
      },
      "outputs": [],
      "source": [
        "df_train = pd.read_csv(\"/content/drive/MyDrive/hacks_ai_2022/Вологда/train_dataset_train.csv\")\n",
        "df_test = pd.read_csv(\"/content/drive/MyDrive/hacks_ai_2022/Вологда/test_dataset_test.csv\")"
      ]
    },
    {
      "cell_type": "markdown",
      "metadata": {
        "id": "GywlangPRAEm"
      },
      "source": [
        "## Рассмотрим датасет по ближе"
      ]
    },
    {
      "cell_type": "code",
      "execution_count": 5,
      "metadata": {
        "colab": {
          "base_uri": "https://localhost:8080/",
          "height": 1000
        },
        "id": "gvcl_K3FQ-os",
        "outputId": "b605f1a5-12ee-41f9-93af-14c63d59400f"
      },
      "outputs": [
        {
          "output_type": "execute_result",
          "data": {
            "text/plain": [
              "   RecordNo           Название книги               Автор  \\\n",
              "0      6145  Зулейха открывает глаза        Гузель Яхина   \n",
              "1      7006  Зулейха открывает глаза        Гузель Яхина   \n",
              "2      1124                 Дети мои        Гузель Яхина   \n",
              "3      4716                     ПОСТ  Дмитрий Глуховский   \n",
              "4      2946                     ПОСТ  Дмитрий Глуховский   \n",
              "5       592                   Санькя      Захар Прилепин   \n",
              "6      7635                  Обитель      Захар Прилепин   \n",
              "7      7226              Батюшки мои   Валентин Курбатов   \n",
              "8      6194  Зулейха открывает глаза        Гузель Яхина   \n",
              "9      3276                    Текст  Дмитрий Глуховский   \n",
              "\n",
              "                                    Ссылка на литрес  Рейтинг  \\\n",
              "0  https://www.litres.ru/guzel-yahina/zuleyha-otk...      4.7   \n",
              "1  https://www.litres.ru/guzel-yahina/zuleyha-otk...      4.6   \n",
              "2       https://www.litres.ru/guzel-yahina/deti-moi/      4.4   \n",
              "3     https://www.litres.ru/dmitriy-gluhovskiy/post/      3.9   \n",
              "4  https://www.litres.ru/dmitriy-gluhovskiy/post-...      4.4   \n",
              "5  https://www.litres.ru/zahar-prilepin/sankya-16...      4.1   \n",
              "6       https://www.litres.ru/zahar-prilepin/obitel/      4.5   \n",
              "7  https://www.litres.ru/valentin-kurbatov/batush...      4.7   \n",
              "8  https://www.litres.ru/guzel-yahina/zuleyha-otk...      4.7   \n",
              "9    https://www.litres.ru/dmitriy-gluhovskiy/tekst/      4.4   \n",
              "\n",
              "   Количество оценок  Количество отзывов     Имя читателя  \\\n",
              "0               3922                 408    Айгуль Ляпина   \n",
              "1              24719                2103           Olga T   \n",
              "2               8032                 702   Кирилл Чириков   \n",
              "3                430                  48     Kimetov Oleg   \n",
              "4                832                 113   Сергей Никитин   \n",
              "5                274                  37         Кирилл К   \n",
              "6               1916                 171   Сергей Киряков   \n",
              "7                  3                   6  Елена Тимофеева   \n",
              "8               3922                 408        yuliya_bv   \n",
              "9               7276                 622     shilina.anna   \n",
              "\n",
              "   Оценка книги читателем (из 5 баллов)  \\\n",
              "0                                   5.0   \n",
              "1                                   5.0   \n",
              "2                                   5.0   \n",
              "3                                   5.0   \n",
              "4                                   5.0   \n",
              "5                                   3.0   \n",
              "6                                   5.0   \n",
              "7                                   NaN   \n",
              "8                                   5.0   \n",
              "9                                   5.0   \n",
              "\n",
              "                                               Отзыв  Лайки на отзыв  \\\n",
              "0  Рекомендую книгу в прочтению/прослушиванию. Ес...               0   \n",
              "1  Удивительно, что сейчас возникает ТАКАЯ литера...               0   \n",
              "2  Душевно, жизненно, чувственно, проникновенно!!...               0   \n",
              "3  Очень понравилось. Причем понравилось больше «...               2   \n",
              "4  Круто. Автор и он же чтец – гений. Прослушал н...               1   \n",
              "5  Вообще Прилепин пишет хорошо. Хорошо читается,...               0   \n",
              "6  Это вторая книга атора, которую я прочитал. Ни...               0   \n",
              "7  церковь в начале 90-х В центре повествования П...               1   \n",
              "8  Роман произвёл очень сильное впечатление. Авто...               1   \n",
              "9  На одном дыхании. Без соплей, без чернухи, как...               0   \n",
              "\n",
              "   Дислайки на отзыв  Релевантность  Таксономия релевантные  \\\n",
              "0                  3              0                       0   \n",
              "1                  1              0                       0   \n",
              "2                  0              0                       1   \n",
              "3                  7              0                       1   \n",
              "4                  0              0                       0   \n",
              "5                  1              0                       0   \n",
              "6                  0              0                       1   \n",
              "7                  1              1                       1   \n",
              "8                  3              1                       1   \n",
              "9                  1              0                       0   \n",
              "\n",
              "   Таксономия не релевантные  Длина отзыва  Ценности  \n",
              "0                          0             0         0  \n",
              "1                          0             0         1  \n",
              "2                          0             0         1  \n",
              "3                          0             0         0  \n",
              "4                          0             0         0  \n",
              "5                          0             0         0  \n",
              "6                          0             0         1  \n",
              "7                          0             0         1  \n",
              "8                          0             0         1  \n",
              "9                          0             0         1  "
            ],
            "text/html": [
              "\n",
              "  <div id=\"df-f558ad4b-2a4d-4ad5-98b3-0b0429096aa6\">\n",
              "    <div class=\"colab-df-container\">\n",
              "      <div>\n",
              "<style scoped>\n",
              "    .dataframe tbody tr th:only-of-type {\n",
              "        vertical-align: middle;\n",
              "    }\n",
              "\n",
              "    .dataframe tbody tr th {\n",
              "        vertical-align: top;\n",
              "    }\n",
              "\n",
              "    .dataframe thead th {\n",
              "        text-align: right;\n",
              "    }\n",
              "</style>\n",
              "<table border=\"1\" class=\"dataframe\">\n",
              "  <thead>\n",
              "    <tr style=\"text-align: right;\">\n",
              "      <th></th>\n",
              "      <th>RecordNo</th>\n",
              "      <th>Название книги</th>\n",
              "      <th>Автор</th>\n",
              "      <th>Ссылка на литрес</th>\n",
              "      <th>Рейтинг</th>\n",
              "      <th>Количество оценок</th>\n",
              "      <th>Количество отзывов</th>\n",
              "      <th>Имя читателя</th>\n",
              "      <th>Оценка книги читателем (из 5 баллов)</th>\n",
              "      <th>Отзыв</th>\n",
              "      <th>Лайки на отзыв</th>\n",
              "      <th>Дислайки на отзыв</th>\n",
              "      <th>Релевантность</th>\n",
              "      <th>Таксономия релевантные</th>\n",
              "      <th>Таксономия не релевантные</th>\n",
              "      <th>Длина отзыва</th>\n",
              "      <th>Ценности</th>\n",
              "    </tr>\n",
              "  </thead>\n",
              "  <tbody>\n",
              "    <tr>\n",
              "      <th>0</th>\n",
              "      <td>6145</td>\n",
              "      <td>Зулейха открывает глаза</td>\n",
              "      <td>Гузель Яхина</td>\n",
              "      <td>https://www.litres.ru/guzel-yahina/zuleyha-otk...</td>\n",
              "      <td>4.7</td>\n",
              "      <td>3922</td>\n",
              "      <td>408</td>\n",
              "      <td>Айгуль Ляпина</td>\n",
              "      <td>5.0</td>\n",
              "      <td>Рекомендую книгу в прочтению/прослушиванию. Ес...</td>\n",
              "      <td>0</td>\n",
              "      <td>3</td>\n",
              "      <td>0</td>\n",
              "      <td>0</td>\n",
              "      <td>0</td>\n",
              "      <td>0</td>\n",
              "      <td>0</td>\n",
              "    </tr>\n",
              "    <tr>\n",
              "      <th>1</th>\n",
              "      <td>7006</td>\n",
              "      <td>Зулейха открывает глаза</td>\n",
              "      <td>Гузель Яхина</td>\n",
              "      <td>https://www.litres.ru/guzel-yahina/zuleyha-otk...</td>\n",
              "      <td>4.6</td>\n",
              "      <td>24719</td>\n",
              "      <td>2103</td>\n",
              "      <td>Olga T</td>\n",
              "      <td>5.0</td>\n",
              "      <td>Удивительно, что сейчас возникает ТАКАЯ литера...</td>\n",
              "      <td>0</td>\n",
              "      <td>1</td>\n",
              "      <td>0</td>\n",
              "      <td>0</td>\n",
              "      <td>0</td>\n",
              "      <td>0</td>\n",
              "      <td>1</td>\n",
              "    </tr>\n",
              "    <tr>\n",
              "      <th>2</th>\n",
              "      <td>1124</td>\n",
              "      <td>Дети мои</td>\n",
              "      <td>Гузель Яхина</td>\n",
              "      <td>https://www.litres.ru/guzel-yahina/deti-moi/</td>\n",
              "      <td>4.4</td>\n",
              "      <td>8032</td>\n",
              "      <td>702</td>\n",
              "      <td>Кирилл Чириков</td>\n",
              "      <td>5.0</td>\n",
              "      <td>Душевно, жизненно, чувственно, проникновенно!!...</td>\n",
              "      <td>0</td>\n",
              "      <td>0</td>\n",
              "      <td>0</td>\n",
              "      <td>1</td>\n",
              "      <td>0</td>\n",
              "      <td>0</td>\n",
              "      <td>1</td>\n",
              "    </tr>\n",
              "    <tr>\n",
              "      <th>3</th>\n",
              "      <td>4716</td>\n",
              "      <td>ПОСТ</td>\n",
              "      <td>Дмитрий Глуховский</td>\n",
              "      <td>https://www.litres.ru/dmitriy-gluhovskiy/post/</td>\n",
              "      <td>3.9</td>\n",
              "      <td>430</td>\n",
              "      <td>48</td>\n",
              "      <td>Kimetov Oleg</td>\n",
              "      <td>5.0</td>\n",
              "      <td>Очень понравилось. Причем понравилось больше «...</td>\n",
              "      <td>2</td>\n",
              "      <td>7</td>\n",
              "      <td>0</td>\n",
              "      <td>1</td>\n",
              "      <td>0</td>\n",
              "      <td>0</td>\n",
              "      <td>0</td>\n",
              "    </tr>\n",
              "    <tr>\n",
              "      <th>4</th>\n",
              "      <td>2946</td>\n",
              "      <td>ПОСТ</td>\n",
              "      <td>Дмитрий Глуховский</td>\n",
              "      <td>https://www.litres.ru/dmitriy-gluhovskiy/post-...</td>\n",
              "      <td>4.4</td>\n",
              "      <td>832</td>\n",
              "      <td>113</td>\n",
              "      <td>Сергей Никитин</td>\n",
              "      <td>5.0</td>\n",
              "      <td>Круто. Автор и он же чтец – гений. Прослушал н...</td>\n",
              "      <td>1</td>\n",
              "      <td>0</td>\n",
              "      <td>0</td>\n",
              "      <td>0</td>\n",
              "      <td>0</td>\n",
              "      <td>0</td>\n",
              "      <td>0</td>\n",
              "    </tr>\n",
              "    <tr>\n",
              "      <th>5</th>\n",
              "      <td>592</td>\n",
              "      <td>Санькя</td>\n",
              "      <td>Захар Прилепин</td>\n",
              "      <td>https://www.litres.ru/zahar-prilepin/sankya-16...</td>\n",
              "      <td>4.1</td>\n",
              "      <td>274</td>\n",
              "      <td>37</td>\n",
              "      <td>Кирилл К</td>\n",
              "      <td>3.0</td>\n",
              "      <td>Вообще Прилепин пишет хорошо. Хорошо читается,...</td>\n",
              "      <td>0</td>\n",
              "      <td>1</td>\n",
              "      <td>0</td>\n",
              "      <td>0</td>\n",
              "      <td>0</td>\n",
              "      <td>0</td>\n",
              "      <td>0</td>\n",
              "    </tr>\n",
              "    <tr>\n",
              "      <th>6</th>\n",
              "      <td>7635</td>\n",
              "      <td>Обитель</td>\n",
              "      <td>Захар Прилепин</td>\n",
              "      <td>https://www.litres.ru/zahar-prilepin/obitel/</td>\n",
              "      <td>4.5</td>\n",
              "      <td>1916</td>\n",
              "      <td>171</td>\n",
              "      <td>Сергей Киряков</td>\n",
              "      <td>5.0</td>\n",
              "      <td>Это вторая книга атора, которую я прочитал. Ни...</td>\n",
              "      <td>0</td>\n",
              "      <td>0</td>\n",
              "      <td>0</td>\n",
              "      <td>1</td>\n",
              "      <td>0</td>\n",
              "      <td>0</td>\n",
              "      <td>1</td>\n",
              "    </tr>\n",
              "    <tr>\n",
              "      <th>7</th>\n",
              "      <td>7226</td>\n",
              "      <td>Батюшки мои</td>\n",
              "      <td>Валентин Курбатов</td>\n",
              "      <td>https://www.litres.ru/valentin-kurbatov/batush...</td>\n",
              "      <td>4.7</td>\n",
              "      <td>3</td>\n",
              "      <td>6</td>\n",
              "      <td>Елена Тимофеева</td>\n",
              "      <td>NaN</td>\n",
              "      <td>церковь в начале 90-х В центре повествования П...</td>\n",
              "      <td>1</td>\n",
              "      <td>1</td>\n",
              "      <td>1</td>\n",
              "      <td>1</td>\n",
              "      <td>0</td>\n",
              "      <td>0</td>\n",
              "      <td>1</td>\n",
              "    </tr>\n",
              "    <tr>\n",
              "      <th>8</th>\n",
              "      <td>6194</td>\n",
              "      <td>Зулейха открывает глаза</td>\n",
              "      <td>Гузель Яхина</td>\n",
              "      <td>https://www.litres.ru/guzel-yahina/zuleyha-otk...</td>\n",
              "      <td>4.7</td>\n",
              "      <td>3922</td>\n",
              "      <td>408</td>\n",
              "      <td>yuliya_bv</td>\n",
              "      <td>5.0</td>\n",
              "      <td>Роман произвёл очень сильное впечатление. Авто...</td>\n",
              "      <td>1</td>\n",
              "      <td>3</td>\n",
              "      <td>1</td>\n",
              "      <td>1</td>\n",
              "      <td>0</td>\n",
              "      <td>0</td>\n",
              "      <td>1</td>\n",
              "    </tr>\n",
              "    <tr>\n",
              "      <th>9</th>\n",
              "      <td>3276</td>\n",
              "      <td>Текст</td>\n",
              "      <td>Дмитрий Глуховский</td>\n",
              "      <td>https://www.litres.ru/dmitriy-gluhovskiy/tekst/</td>\n",
              "      <td>4.4</td>\n",
              "      <td>7276</td>\n",
              "      <td>622</td>\n",
              "      <td>shilina.anna</td>\n",
              "      <td>5.0</td>\n",
              "      <td>На одном дыхании. Без соплей, без чернухи, как...</td>\n",
              "      <td>0</td>\n",
              "      <td>1</td>\n",
              "      <td>0</td>\n",
              "      <td>0</td>\n",
              "      <td>0</td>\n",
              "      <td>0</td>\n",
              "      <td>1</td>\n",
              "    </tr>\n",
              "  </tbody>\n",
              "</table>\n",
              "</div>\n",
              "      <button class=\"colab-df-convert\" onclick=\"convertToInteractive('df-f558ad4b-2a4d-4ad5-98b3-0b0429096aa6')\"\n",
              "              title=\"Convert this dataframe to an interactive table.\"\n",
              "              style=\"display:none;\">\n",
              "        \n",
              "  <svg xmlns=\"http://www.w3.org/2000/svg\" height=\"24px\"viewBox=\"0 0 24 24\"\n",
              "       width=\"24px\">\n",
              "    <path d=\"M0 0h24v24H0V0z\" fill=\"none\"/>\n",
              "    <path d=\"M18.56 5.44l.94 2.06.94-2.06 2.06-.94-2.06-.94-.94-2.06-.94 2.06-2.06.94zm-11 1L8.5 8.5l.94-2.06 2.06-.94-2.06-.94L8.5 2.5l-.94 2.06-2.06.94zm10 10l.94 2.06.94-2.06 2.06-.94-2.06-.94-.94-2.06-.94 2.06-2.06.94z\"/><path d=\"M17.41 7.96l-1.37-1.37c-.4-.4-.92-.59-1.43-.59-.52 0-1.04.2-1.43.59L10.3 9.45l-7.72 7.72c-.78.78-.78 2.05 0 2.83L4 21.41c.39.39.9.59 1.41.59.51 0 1.02-.2 1.41-.59l7.78-7.78 2.81-2.81c.8-.78.8-2.07 0-2.86zM5.41 20L4 18.59l7.72-7.72 1.47 1.35L5.41 20z\"/>\n",
              "  </svg>\n",
              "      </button>\n",
              "      \n",
              "  <style>\n",
              "    .colab-df-container {\n",
              "      display:flex;\n",
              "      flex-wrap:wrap;\n",
              "      gap: 12px;\n",
              "    }\n",
              "\n",
              "    .colab-df-convert {\n",
              "      background-color: #E8F0FE;\n",
              "      border: none;\n",
              "      border-radius: 50%;\n",
              "      cursor: pointer;\n",
              "      display: none;\n",
              "      fill: #1967D2;\n",
              "      height: 32px;\n",
              "      padding: 0 0 0 0;\n",
              "      width: 32px;\n",
              "    }\n",
              "\n",
              "    .colab-df-convert:hover {\n",
              "      background-color: #E2EBFA;\n",
              "      box-shadow: 0px 1px 2px rgba(60, 64, 67, 0.3), 0px 1px 3px 1px rgba(60, 64, 67, 0.15);\n",
              "      fill: #174EA6;\n",
              "    }\n",
              "\n",
              "    [theme=dark] .colab-df-convert {\n",
              "      background-color: #3B4455;\n",
              "      fill: #D2E3FC;\n",
              "    }\n",
              "\n",
              "    [theme=dark] .colab-df-convert:hover {\n",
              "      background-color: #434B5C;\n",
              "      box-shadow: 0px 1px 3px 1px rgba(0, 0, 0, 0.15);\n",
              "      filter: drop-shadow(0px 1px 2px rgba(0, 0, 0, 0.3));\n",
              "      fill: #FFFFFF;\n",
              "    }\n",
              "  </style>\n",
              "\n",
              "      <script>\n",
              "        const buttonEl =\n",
              "          document.querySelector('#df-f558ad4b-2a4d-4ad5-98b3-0b0429096aa6 button.colab-df-convert');\n",
              "        buttonEl.style.display =\n",
              "          google.colab.kernel.accessAllowed ? 'block' : 'none';\n",
              "\n",
              "        async function convertToInteractive(key) {\n",
              "          const element = document.querySelector('#df-f558ad4b-2a4d-4ad5-98b3-0b0429096aa6');\n",
              "          const dataTable =\n",
              "            await google.colab.kernel.invokeFunction('convertToInteractive',\n",
              "                                                     [key], {});\n",
              "          if (!dataTable) return;\n",
              "\n",
              "          const docLinkHtml = 'Like what you see? Visit the ' +\n",
              "            '<a target=\"_blank\" href=https://colab.research.google.com/notebooks/data_table.ipynb>data table notebook</a>'\n",
              "            + ' to learn more about interactive tables.';\n",
              "          element.innerHTML = '';\n",
              "          dataTable['output_type'] = 'display_data';\n",
              "          await google.colab.output.renderOutput(dataTable, element);\n",
              "          const docLink = document.createElement('div');\n",
              "          docLink.innerHTML = docLinkHtml;\n",
              "          element.appendChild(docLink);\n",
              "        }\n",
              "      </script>\n",
              "    </div>\n",
              "  </div>\n",
              "  "
            ]
          },
          "metadata": {},
          "execution_count": 5
        }
      ],
      "source": [
        "df_train.head(10)"
      ]
    },
    {
      "cell_type": "code",
      "execution_count": 6,
      "metadata": {
        "colab": {
          "base_uri": "https://localhost:8080/"
        },
        "id": "uAIT-vwLUI0z",
        "outputId": "7552b15b-5450-422c-819a-aec10fe6ab6c"
      },
      "outputs": [
        {
          "output_type": "execute_result",
          "data": {
            "text/plain": [
              "(4839, 17)"
            ]
          },
          "metadata": {},
          "execution_count": 6
        }
      ],
      "source": [
        "df_train.shape"
      ]
    },
    {
      "cell_type": "code",
      "execution_count": 7,
      "metadata": {
        "colab": {
          "base_uri": "https://localhost:8080/"
        },
        "id": "SzAA5TKYfVey",
        "outputId": "b61af276-1634-490c-c9e5-b64f178b2ae3"
      },
      "outputs": [
        {
          "output_type": "stream",
          "name": "stdout",
          "text": [
            "<class 'pandas.core.frame.DataFrame'>\n",
            "RangeIndex: 4839 entries, 0 to 4838\n",
            "Data columns (total 17 columns):\n",
            " #   Column                                Non-Null Count  Dtype  \n",
            "---  ------                                --------------  -----  \n",
            " 0   RecordNo                              4839 non-null   int64  \n",
            " 1   Название книги                        4839 non-null   object \n",
            " 2   Автор                                 4839 non-null   object \n",
            " 3   Ссылка на литрес                      4839 non-null   object \n",
            " 4   Рейтинг                               4839 non-null   float64\n",
            " 5   Количество оценок                     4839 non-null   int64  \n",
            " 6   Количество отзывов                    4839 non-null   int64  \n",
            " 7   Имя читателя                          4839 non-null   object \n",
            " 8   Оценка книги читателем (из 5 баллов)  4070 non-null   float64\n",
            " 9   Отзыв                                 4839 non-null   object \n",
            " 10  Лайки на отзыв                        4839 non-null   int64  \n",
            " 11  Дислайки на отзыв                     4839 non-null   int64  \n",
            " 12  Релевантность                         4839 non-null   int64  \n",
            " 13  Таксономия релевантные                4839 non-null   int64  \n",
            " 14  Таксономия не релевантные             4839 non-null   int64  \n",
            " 15  Длина отзыва                          4839 non-null   int64  \n",
            " 16  Ценности                              4839 non-null   int64  \n",
            "dtypes: float64(2), int64(10), object(5)\n",
            "memory usage: 642.8+ KB\n"
          ]
        }
      ],
      "source": [
        "df_train.info()"
      ]
    },
    {
      "cell_type": "markdown",
      "source": [
        "## Загрузим стоп - слова."
      ],
      "metadata": {
        "id": "pixAn2zKK36u"
      }
    },
    {
      "cell_type": "code",
      "source": [
        "import nltk\n",
        "nltk.download('stopwords')\n",
        "\n",
        "\n",
        "from nltk.corpus import stopwords\n",
        "words_stop = stopwords.words('russian')"
      ],
      "metadata": {
        "colab": {
          "base_uri": "https://localhost:8080/"
        },
        "id": "cT7FjHzHK2wh",
        "outputId": "a1d12ef7-16e9-4b4f-e919-83937c3bed4f"
      },
      "execution_count": 8,
      "outputs": [
        {
          "output_type": "stream",
          "name": "stderr",
          "text": [
            "[nltk_data] Downloading package stopwords to /root/nltk_data...\n",
            "[nltk_data]   Unzipping corpora/stopwords.zip.\n"
          ]
        }
      ]
    },
    {
      "cell_type": "markdown",
      "metadata": {
        "id": "a-LbpIV3LfjF"
      },
      "source": [
        "##Загрузим лексический анализатор"
      ]
    },
    {
      "cell_type": "code",
      "execution_count": 9,
      "metadata": {
        "colab": {
          "base_uri": "https://localhost:8080/"
        },
        "id": "FqmlxKZxLeP1",
        "outputId": "3103f334-6433-40fd-be42-328c2b30f085"
      },
      "outputs": [
        {
          "output_type": "stream",
          "name": "stdout",
          "text": [
            "Looking in indexes: https://pypi.org/simple, https://us-python.pkg.dev/colab-wheels/public/simple/\n",
            "Collecting pymorphy2\n",
            "  Downloading pymorphy2-0.9.1-py3-none-any.whl (55 kB)\n",
            "\u001b[K     |████████████████████████████████| 55 kB 1.7 MB/s \n",
            "\u001b[?25hCollecting pymorphy2-dicts-ru<3.0,>=2.4\n",
            "  Downloading pymorphy2_dicts_ru-2.4.417127.4579844-py2.py3-none-any.whl (8.2 MB)\n",
            "\u001b[K     |████████████████████████████████| 8.2 MB 13.5 MB/s \n",
            "\u001b[?25hCollecting docopt>=0.6\n",
            "  Downloading docopt-0.6.2.tar.gz (25 kB)\n",
            "Collecting dawg-python>=0.7.1\n",
            "  Downloading DAWG_Python-0.7.2-py2.py3-none-any.whl (11 kB)\n",
            "Building wheels for collected packages: docopt\n",
            "  Building wheel for docopt (setup.py) ... \u001b[?25l\u001b[?25hdone\n",
            "  Created wheel for docopt: filename=docopt-0.6.2-py2.py3-none-any.whl size=13723 sha256=9900ecaf05cceba5f41d11c1a6490210e938d5b58d085ab2dbcb141b4de16eb6\n",
            "  Stored in directory: /root/.cache/pip/wheels/72/b0/3f/1d95f96ff986c7dfffe46ce2be4062f38ebd04b506c77c81b9\n",
            "Successfully built docopt\n",
            "Installing collected packages: pymorphy2-dicts-ru, docopt, dawg-python, pymorphy2\n",
            "Successfully installed dawg-python-0.7.2 docopt-0.6.2 pymorphy2-0.9.1 pymorphy2-dicts-ru-2.4.417127.4579844\n"
          ]
        }
      ],
      "source": [
        "!pip install pymorphy2\n",
        "import pymorphy2\n",
        "morph = pymorphy2.MorphAnalyzer()\n",
        "import re\n",
        "import string\n",
        "import numpy as np\n",
        "\n",
        "ch=navec['непринужденность']\n",
        "ch=navec['человека']\n",
        "zero_word=np.zeros_like(ch)\n",
        "\n",
        "\n",
        "def sentence_embedding(s):\n",
        "  sum_word=zero_word.copy()\n",
        "  s_list = re.findall(r'\\b\\w+\\b', s)\n",
        "  for w in s_list:\n",
        "    w=w.lower()\n",
        "    p = morph.parse(w)[0]\n",
        "  \n",
        "    w=p.normal_form\n",
        "    w = w.replace('ё','е')\n",
        "    if w not in words_stop:\n",
        "      if w in navec:\n",
        "        sum_word=sum_word+navec[w]\n",
        "  sum_word=sum_word/len(s_list)\n",
        "  return sum_word\n",
        "\n",
        "\n",
        "\n"
      ]
    },
    {
      "cell_type": "markdown",
      "source": [
        "## Построение эмбединга культурного кода"
      ],
      "metadata": {
        "id": "MOq1h19RANF9"
      }
    },
    {
      "cell_type": "code",
      "source": [
        "ch.shape"
      ],
      "metadata": {
        "colab": {
          "base_uri": "https://localhost:8080/"
        },
        "id": "T84KZ8XyFXc3",
        "outputId": "514c5954-bf5b-475e-f7bd-a7b6d4b5cd6c"
      },
      "execution_count": 10,
      "outputs": [
        {
          "output_type": "execute_result",
          "data": {
            "text/plain": [
              "(300,)"
            ]
          },
          "metadata": {},
          "execution_count": 10
        }
      ]
    },
    {
      "cell_type": "code",
      "source": [
        "#'жизнь,достоинство, права и свободы человека, патриотизм, гражданственность,служение Отечеству и ответственность за его судьбу, высокие нравственные идеалы, крепкая семья, созидательный труд, приоритет духовного над материальным, гуманизм, милосердие, справедливость, коллективизм,взаимопомощь и взаимоуважение, историческая память и преемственность поколений, единство народов России'\n",
        "culturalCode = 'жизнь человек,достоинство человек, право человек,свобода человек,патриотизм, гражданственность,служение отечество,ответственность судьба отечество,высокий нравственный идеал, крепкий семья, созидательный труд,приоритет духовное материальное, гуманизм, милосердие, справедливость, коллективизм,взаимопомощь, взаимоуважение, исторический память , преемственность поколение, единство народ Россия'\n",
        "culturalList = culturalCode.split(',')\n",
        "\n",
        "culturalEmbeddingList=[]\n",
        "valueLengthList=[]\n",
        "\n",
        "for wc in culturalList:\n",
        "  wc=wc.lower()\n",
        "  e=zero_word\n",
        "  #print(wc)\n",
        "  wcl=wc.strip().split(' ')\n",
        "  for w in wcl:\n",
        "    p = morph.parse(w)[0]\n",
        "    w = p.normal_form\n",
        "    e=e+navec[w]\n",
        "  culturalEmbeddingList.append(e)\n",
        "  valueLengthList.append(len(wcl))\n",
        "sumCulturalEmbedding=np.sum(culturalEmbeddingList, axis=0)\n",
        "sumCulturalEmbedding.shape\n",
        "avgCulturalEmbedding=sumCulturalEmbedding/len(culturalEmbeddingList)"
      ],
      "metadata": {
        "id": "lbS3zlpNAUNs"
      },
      "execution_count": 11,
      "outputs": []
    },
    {
      "cell_type": "markdown",
      "metadata": {
        "id": "w5fNLAa0h_dn"
      },
      "source": [
        "## Добавим новых признаков"
      ]
    },
    {
      "cell_type": "code",
      "execution_count": 12,
      "metadata": {
        "id": "MtnanQg0MFni"
      },
      "outputs": [],
      "source": [
        "def get_value(s):\n",
        "  v = 0\n",
        "  \n",
        "  s_list = re.findall(r'\\b\\w+\\b', s)\n",
        "  for i in range(len(culturalEmbeddingList)):\n",
        "    ewc = culturalEmbeddingList[i]\n",
        "    similarityList=[]\n",
        "    for w in s_list:\n",
        "      w=w.lower()\n",
        "      p = morph.parse(w)[0]\n",
        "   \n",
        "      w=p.normal_form\n",
        "      w = w.replace('ё','е')\n",
        "      if w not in words_stop:\n",
        "        if w in navec:\n",
        "          ew = navec[w]\n",
        "        \n",
        "          \n",
        "          cs=cosine_similarity(ew.reshape(1,-1),ewc.reshape(1,-1))[0][0]\n",
        "          \n",
        "          similarityList.append(cs)\n",
        "    similarityList.sort(reverse=True)\n",
        "    if len(similarityList)>2:\n",
        "      vn=0\n",
        "      for j in range(valueLengthList[i]):\n",
        "        vn=vn+similarityList[j]\n",
        "      vn = vn / valueLengthList[i]\n",
        "    else:\n",
        "      vn=similarityList[0]\n",
        "    if vn>v:\n",
        "\n",
        "      v=vn\n",
        "  return v\n",
        "\n",
        "\n",
        "def get_culturalcode(s):\n",
        "  e=sentence_embedding(s)\n",
        "  p_e=avgCulturalEmbedding\n",
        "  return cosine_similarity(e.reshape(1,-1),p_e.reshape(1,-1))[0][0]\n",
        "\n"
      ]
    },
    {
      "cell_type": "code",
      "execution_count": 13,
      "metadata": {
        "id": "xyutMnZ2msuR"
      },
      "outputs": [],
      "source": [
        "def add_features(df):\n",
        "  df[\"len_reviews\"] = df[\"Отзыв\"].map(len)\n",
        "\n",
        " \n",
        "\n",
        "  df[\"Соответствие коду\"] = df[\"Отзыв\"].apply(get_culturalcode)\n",
        "  df[\"Наличие ценности\"] = df[\"Отзыв\"].apply(get_value)\n",
        "  df = df.fillna(0)\n",
        "  return df\n",
        "\n",
        "df_train = add_features(df_train)"
      ]
    },
    {
      "cell_type": "code",
      "source": [
        "df_train"
      ],
      "metadata": {
        "colab": {
          "base_uri": "https://localhost:8080/",
          "height": 1000
        },
        "id": "Gm-rUagQhU25",
        "outputId": "79a800dc-0886-47e3-9667-afe7c78ccb2d"
      },
      "execution_count": 14,
      "outputs": [
        {
          "output_type": "execute_result",
          "data": {
            "text/plain": [
              "      RecordNo           Название книги               Автор  \\\n",
              "0         6145  Зулейха открывает глаза        Гузель Яхина   \n",
              "1         7006  Зулейха открывает глаза        Гузель Яхина   \n",
              "2         1124                 Дети мои        Гузель Яхина   \n",
              "3         4716                     ПОСТ  Дмитрий Глуховский   \n",
              "4         2946                     ПОСТ  Дмитрий Глуховский   \n",
              "...        ...                      ...                 ...   \n",
              "4834      1196                 Дети мои        Гузель Яхина   \n",
              "4835      1810                  Авиатор  Евгений Водолазкин   \n",
              "4836      3220                    Текст  Дмитрий Глуховский   \n",
              "4837      4480  Зулейха открывает глаза        Гузель Яхина   \n",
              "4838      6849              Дни Савелия  Григорий Служитель   \n",
              "\n",
              "                                       Ссылка на литрес  Рейтинг  \\\n",
              "0     https://www.litres.ru/guzel-yahina/zuleyha-otk...      4.7   \n",
              "1     https://www.litres.ru/guzel-yahina/zuleyha-otk...      4.6   \n",
              "2          https://www.litres.ru/guzel-yahina/deti-moi/      4.4   \n",
              "3        https://www.litres.ru/dmitriy-gluhovskiy/post/      3.9   \n",
              "4     https://www.litres.ru/dmitriy-gluhovskiy/post-...      4.4   \n",
              "...                                                 ...      ...   \n",
              "4834       https://www.litres.ru/guzel-yahina/deti-moi/      4.4   \n",
              "4835  https://www.litres.ru/evgeniy-vodolazkin/aviator/      4.5   \n",
              "4836  https://www.litres.ru/dmitriy-gluhovskiy/tekst...      4.5   \n",
              "4837  https://www.litres.ru/guzel-yahina/zuleyha-otk...      4.6   \n",
              "4838  https://www.litres.ru/grigoriy-sluzhitel/dni-s...      4.6   \n",
              "\n",
              "      Количество оценок  Количество отзывов        Имя читателя  \\\n",
              "0                  3922                 408       Айгуль Ляпина   \n",
              "1                 24719                2103              Olga T   \n",
              "2                  8032                 702      Кирилл Чириков   \n",
              "3                   430                  48        Kimetov Oleg   \n",
              "4                   832                 113      Сергей Никитин   \n",
              "...                 ...                 ...                 ...   \n",
              "4834               8032                 702           417504557   \n",
              "4835               3551                 260  Viktoria Steinbach   \n",
              "4836               1923                 246               AnVer   \n",
              "4837              24719                2103     Мария Перешивко   \n",
              "4838               1212                 143  Christine Komtsian   \n",
              "\n",
              "      Оценка книги читателем (из 5 баллов)  \\\n",
              "0                                      5.0   \n",
              "1                                      5.0   \n",
              "2                                      5.0   \n",
              "3                                      5.0   \n",
              "4                                      5.0   \n",
              "...                                    ...   \n",
              "4834                                   4.0   \n",
              "4835                                   0.0   \n",
              "4836                                   5.0   \n",
              "4837                                   5.0   \n",
              "4838                                   5.0   \n",
              "\n",
              "                                                  Отзыв  Лайки на отзыв  \\\n",
              "0     Рекомендую книгу в прочтению/прослушиванию. Ес...               0   \n",
              "1     Удивительно, что сейчас возникает ТАКАЯ литера...               0   \n",
              "2     Душевно, жизненно, чувственно, проникновенно!!...               0   \n",
              "3     Очень понравилось. Причем понравилось больше «...               2   \n",
              "4     Круто. Автор и он же чтец – гений. Прослушал н...               1   \n",
              "...                                                 ...             ...   \n",
              "4834  Ещё один замечательный роман Гузель Яхиной! По...               0   \n",
              "4835  Как всегда у Водолазкина – увлекательнейший сю...               0   \n",
              "4836  Мрачно, грустно. Давно такого не читала и хват...               1   \n",
              "4837  Очень интересная книга! Как будто очутилась в ...               0   \n",
              "4838  Тот редкий случай, когда, ничего особенно не о...               0   \n",
              "\n",
              "      Дислайки на отзыв  Релевантность  Таксономия релевантные  \\\n",
              "0                     3              0                       0   \n",
              "1                     1              0                       0   \n",
              "2                     0              0                       1   \n",
              "3                     7              0                       1   \n",
              "4                     0              0                       0   \n",
              "...                 ...            ...                     ...   \n",
              "4834                  0              0                       0   \n",
              "4835                  1              1                       1   \n",
              "4836                  2              0                       0   \n",
              "4837                  1              0                       0   \n",
              "4838                  0              1                       1   \n",
              "\n",
              "      Таксономия не релевантные  Длина отзыва  Ценности  len_reviews  \\\n",
              "0                             0             0         0          157   \n",
              "1                             0             0         1          283   \n",
              "2                             0             0         1          278   \n",
              "3                             0             0         0          342   \n",
              "4                             0             0         0          177   \n",
              "...                         ...           ...       ...          ...   \n",
              "4834                          0             0         0          149   \n",
              "4835                          0             0         1          468   \n",
              "4836                          1             0         0          148   \n",
              "4837                          0             0         0          139   \n",
              "4838                          0             0         1          609   \n",
              "\n",
              "      Соответствие коду  Наличие ценности  \n",
              "0              0.234113          0.488613  \n",
              "1              0.456540          0.672787  \n",
              "2              0.623444          0.520586  \n",
              "3              0.478598          0.441867  \n",
              "4              0.421581          0.475271  \n",
              "...                 ...               ...  \n",
              "4834           0.249179          0.350266  \n",
              "4835           0.529078          0.469880  \n",
              "4836           0.266024          0.407522  \n",
              "4837           0.316819          0.409608  \n",
              "4838           0.490078          0.485680  \n",
              "\n",
              "[4839 rows x 20 columns]"
            ],
            "text/html": [
              "\n",
              "  <div id=\"df-b148b557-6bff-4b09-8935-1522d00db522\">\n",
              "    <div class=\"colab-df-container\">\n",
              "      <div>\n",
              "<style scoped>\n",
              "    .dataframe tbody tr th:only-of-type {\n",
              "        vertical-align: middle;\n",
              "    }\n",
              "\n",
              "    .dataframe tbody tr th {\n",
              "        vertical-align: top;\n",
              "    }\n",
              "\n",
              "    .dataframe thead th {\n",
              "        text-align: right;\n",
              "    }\n",
              "</style>\n",
              "<table border=\"1\" class=\"dataframe\">\n",
              "  <thead>\n",
              "    <tr style=\"text-align: right;\">\n",
              "      <th></th>\n",
              "      <th>RecordNo</th>\n",
              "      <th>Название книги</th>\n",
              "      <th>Автор</th>\n",
              "      <th>Ссылка на литрес</th>\n",
              "      <th>Рейтинг</th>\n",
              "      <th>Количество оценок</th>\n",
              "      <th>Количество отзывов</th>\n",
              "      <th>Имя читателя</th>\n",
              "      <th>Оценка книги читателем (из 5 баллов)</th>\n",
              "      <th>Отзыв</th>\n",
              "      <th>Лайки на отзыв</th>\n",
              "      <th>Дислайки на отзыв</th>\n",
              "      <th>Релевантность</th>\n",
              "      <th>Таксономия релевантные</th>\n",
              "      <th>Таксономия не релевантные</th>\n",
              "      <th>Длина отзыва</th>\n",
              "      <th>Ценности</th>\n",
              "      <th>len_reviews</th>\n",
              "      <th>Соответствие коду</th>\n",
              "      <th>Наличие ценности</th>\n",
              "    </tr>\n",
              "  </thead>\n",
              "  <tbody>\n",
              "    <tr>\n",
              "      <th>0</th>\n",
              "      <td>6145</td>\n",
              "      <td>Зулейха открывает глаза</td>\n",
              "      <td>Гузель Яхина</td>\n",
              "      <td>https://www.litres.ru/guzel-yahina/zuleyha-otk...</td>\n",
              "      <td>4.7</td>\n",
              "      <td>3922</td>\n",
              "      <td>408</td>\n",
              "      <td>Айгуль Ляпина</td>\n",
              "      <td>5.0</td>\n",
              "      <td>Рекомендую книгу в прочтению/прослушиванию. Ес...</td>\n",
              "      <td>0</td>\n",
              "      <td>3</td>\n",
              "      <td>0</td>\n",
              "      <td>0</td>\n",
              "      <td>0</td>\n",
              "      <td>0</td>\n",
              "      <td>0</td>\n",
              "      <td>157</td>\n",
              "      <td>0.234113</td>\n",
              "      <td>0.488613</td>\n",
              "    </tr>\n",
              "    <tr>\n",
              "      <th>1</th>\n",
              "      <td>7006</td>\n",
              "      <td>Зулейха открывает глаза</td>\n",
              "      <td>Гузель Яхина</td>\n",
              "      <td>https://www.litres.ru/guzel-yahina/zuleyha-otk...</td>\n",
              "      <td>4.6</td>\n",
              "      <td>24719</td>\n",
              "      <td>2103</td>\n",
              "      <td>Olga T</td>\n",
              "      <td>5.0</td>\n",
              "      <td>Удивительно, что сейчас возникает ТАКАЯ литера...</td>\n",
              "      <td>0</td>\n",
              "      <td>1</td>\n",
              "      <td>0</td>\n",
              "      <td>0</td>\n",
              "      <td>0</td>\n",
              "      <td>0</td>\n",
              "      <td>1</td>\n",
              "      <td>283</td>\n",
              "      <td>0.456540</td>\n",
              "      <td>0.672787</td>\n",
              "    </tr>\n",
              "    <tr>\n",
              "      <th>2</th>\n",
              "      <td>1124</td>\n",
              "      <td>Дети мои</td>\n",
              "      <td>Гузель Яхина</td>\n",
              "      <td>https://www.litres.ru/guzel-yahina/deti-moi/</td>\n",
              "      <td>4.4</td>\n",
              "      <td>8032</td>\n",
              "      <td>702</td>\n",
              "      <td>Кирилл Чириков</td>\n",
              "      <td>5.0</td>\n",
              "      <td>Душевно, жизненно, чувственно, проникновенно!!...</td>\n",
              "      <td>0</td>\n",
              "      <td>0</td>\n",
              "      <td>0</td>\n",
              "      <td>1</td>\n",
              "      <td>0</td>\n",
              "      <td>0</td>\n",
              "      <td>1</td>\n",
              "      <td>278</td>\n",
              "      <td>0.623444</td>\n",
              "      <td>0.520586</td>\n",
              "    </tr>\n",
              "    <tr>\n",
              "      <th>3</th>\n",
              "      <td>4716</td>\n",
              "      <td>ПОСТ</td>\n",
              "      <td>Дмитрий Глуховский</td>\n",
              "      <td>https://www.litres.ru/dmitriy-gluhovskiy/post/</td>\n",
              "      <td>3.9</td>\n",
              "      <td>430</td>\n",
              "      <td>48</td>\n",
              "      <td>Kimetov Oleg</td>\n",
              "      <td>5.0</td>\n",
              "      <td>Очень понравилось. Причем понравилось больше «...</td>\n",
              "      <td>2</td>\n",
              "      <td>7</td>\n",
              "      <td>0</td>\n",
              "      <td>1</td>\n",
              "      <td>0</td>\n",
              "      <td>0</td>\n",
              "      <td>0</td>\n",
              "      <td>342</td>\n",
              "      <td>0.478598</td>\n",
              "      <td>0.441867</td>\n",
              "    </tr>\n",
              "    <tr>\n",
              "      <th>4</th>\n",
              "      <td>2946</td>\n",
              "      <td>ПОСТ</td>\n",
              "      <td>Дмитрий Глуховский</td>\n",
              "      <td>https://www.litres.ru/dmitriy-gluhovskiy/post-...</td>\n",
              "      <td>4.4</td>\n",
              "      <td>832</td>\n",
              "      <td>113</td>\n",
              "      <td>Сергей Никитин</td>\n",
              "      <td>5.0</td>\n",
              "      <td>Круто. Автор и он же чтец – гений. Прослушал н...</td>\n",
              "      <td>1</td>\n",
              "      <td>0</td>\n",
              "      <td>0</td>\n",
              "      <td>0</td>\n",
              "      <td>0</td>\n",
              "      <td>0</td>\n",
              "      <td>0</td>\n",
              "      <td>177</td>\n",
              "      <td>0.421581</td>\n",
              "      <td>0.475271</td>\n",
              "    </tr>\n",
              "    <tr>\n",
              "      <th>...</th>\n",
              "      <td>...</td>\n",
              "      <td>...</td>\n",
              "      <td>...</td>\n",
              "      <td>...</td>\n",
              "      <td>...</td>\n",
              "      <td>...</td>\n",
              "      <td>...</td>\n",
              "      <td>...</td>\n",
              "      <td>...</td>\n",
              "      <td>...</td>\n",
              "      <td>...</td>\n",
              "      <td>...</td>\n",
              "      <td>...</td>\n",
              "      <td>...</td>\n",
              "      <td>...</td>\n",
              "      <td>...</td>\n",
              "      <td>...</td>\n",
              "      <td>...</td>\n",
              "      <td>...</td>\n",
              "      <td>...</td>\n",
              "    </tr>\n",
              "    <tr>\n",
              "      <th>4834</th>\n",
              "      <td>1196</td>\n",
              "      <td>Дети мои</td>\n",
              "      <td>Гузель Яхина</td>\n",
              "      <td>https://www.litres.ru/guzel-yahina/deti-moi/</td>\n",
              "      <td>4.4</td>\n",
              "      <td>8032</td>\n",
              "      <td>702</td>\n",
              "      <td>417504557</td>\n",
              "      <td>4.0</td>\n",
              "      <td>Ещё один замечательный роман Гузель Яхиной! По...</td>\n",
              "      <td>0</td>\n",
              "      <td>0</td>\n",
              "      <td>0</td>\n",
              "      <td>0</td>\n",
              "      <td>0</td>\n",
              "      <td>0</td>\n",
              "      <td>0</td>\n",
              "      <td>149</td>\n",
              "      <td>0.249179</td>\n",
              "      <td>0.350266</td>\n",
              "    </tr>\n",
              "    <tr>\n",
              "      <th>4835</th>\n",
              "      <td>1810</td>\n",
              "      <td>Авиатор</td>\n",
              "      <td>Евгений Водолазкин</td>\n",
              "      <td>https://www.litres.ru/evgeniy-vodolazkin/aviator/</td>\n",
              "      <td>4.5</td>\n",
              "      <td>3551</td>\n",
              "      <td>260</td>\n",
              "      <td>Viktoria Steinbach</td>\n",
              "      <td>0.0</td>\n",
              "      <td>Как всегда у Водолазкина – увлекательнейший сю...</td>\n",
              "      <td>0</td>\n",
              "      <td>1</td>\n",
              "      <td>1</td>\n",
              "      <td>1</td>\n",
              "      <td>0</td>\n",
              "      <td>0</td>\n",
              "      <td>1</td>\n",
              "      <td>468</td>\n",
              "      <td>0.529078</td>\n",
              "      <td>0.469880</td>\n",
              "    </tr>\n",
              "    <tr>\n",
              "      <th>4836</th>\n",
              "      <td>3220</td>\n",
              "      <td>Текст</td>\n",
              "      <td>Дмитрий Глуховский</td>\n",
              "      <td>https://www.litres.ru/dmitriy-gluhovskiy/tekst...</td>\n",
              "      <td>4.5</td>\n",
              "      <td>1923</td>\n",
              "      <td>246</td>\n",
              "      <td>AnVer</td>\n",
              "      <td>5.0</td>\n",
              "      <td>Мрачно, грустно. Давно такого не читала и хват...</td>\n",
              "      <td>1</td>\n",
              "      <td>2</td>\n",
              "      <td>0</td>\n",
              "      <td>0</td>\n",
              "      <td>1</td>\n",
              "      <td>0</td>\n",
              "      <td>0</td>\n",
              "      <td>148</td>\n",
              "      <td>0.266024</td>\n",
              "      <td>0.407522</td>\n",
              "    </tr>\n",
              "    <tr>\n",
              "      <th>4837</th>\n",
              "      <td>4480</td>\n",
              "      <td>Зулейха открывает глаза</td>\n",
              "      <td>Гузель Яхина</td>\n",
              "      <td>https://www.litres.ru/guzel-yahina/zuleyha-otk...</td>\n",
              "      <td>4.6</td>\n",
              "      <td>24719</td>\n",
              "      <td>2103</td>\n",
              "      <td>Мария Перешивко</td>\n",
              "      <td>5.0</td>\n",
              "      <td>Очень интересная книга! Как будто очутилась в ...</td>\n",
              "      <td>0</td>\n",
              "      <td>1</td>\n",
              "      <td>0</td>\n",
              "      <td>0</td>\n",
              "      <td>0</td>\n",
              "      <td>0</td>\n",
              "      <td>0</td>\n",
              "      <td>139</td>\n",
              "      <td>0.316819</td>\n",
              "      <td>0.409608</td>\n",
              "    </tr>\n",
              "    <tr>\n",
              "      <th>4838</th>\n",
              "      <td>6849</td>\n",
              "      <td>Дни Савелия</td>\n",
              "      <td>Григорий Служитель</td>\n",
              "      <td>https://www.litres.ru/grigoriy-sluzhitel/dni-s...</td>\n",
              "      <td>4.6</td>\n",
              "      <td>1212</td>\n",
              "      <td>143</td>\n",
              "      <td>Christine Komtsian</td>\n",
              "      <td>5.0</td>\n",
              "      <td>Тот редкий случай, когда, ничего особенно не о...</td>\n",
              "      <td>0</td>\n",
              "      <td>0</td>\n",
              "      <td>1</td>\n",
              "      <td>1</td>\n",
              "      <td>0</td>\n",
              "      <td>0</td>\n",
              "      <td>1</td>\n",
              "      <td>609</td>\n",
              "      <td>0.490078</td>\n",
              "      <td>0.485680</td>\n",
              "    </tr>\n",
              "  </tbody>\n",
              "</table>\n",
              "<p>4839 rows × 20 columns</p>\n",
              "</div>\n",
              "      <button class=\"colab-df-convert\" onclick=\"convertToInteractive('df-b148b557-6bff-4b09-8935-1522d00db522')\"\n",
              "              title=\"Convert this dataframe to an interactive table.\"\n",
              "              style=\"display:none;\">\n",
              "        \n",
              "  <svg xmlns=\"http://www.w3.org/2000/svg\" height=\"24px\"viewBox=\"0 0 24 24\"\n",
              "       width=\"24px\">\n",
              "    <path d=\"M0 0h24v24H0V0z\" fill=\"none\"/>\n",
              "    <path d=\"M18.56 5.44l.94 2.06.94-2.06 2.06-.94-2.06-.94-.94-2.06-.94 2.06-2.06.94zm-11 1L8.5 8.5l.94-2.06 2.06-.94-2.06-.94L8.5 2.5l-.94 2.06-2.06.94zm10 10l.94 2.06.94-2.06 2.06-.94-2.06-.94-.94-2.06-.94 2.06-2.06.94z\"/><path d=\"M17.41 7.96l-1.37-1.37c-.4-.4-.92-.59-1.43-.59-.52 0-1.04.2-1.43.59L10.3 9.45l-7.72 7.72c-.78.78-.78 2.05 0 2.83L4 21.41c.39.39.9.59 1.41.59.51 0 1.02-.2 1.41-.59l7.78-7.78 2.81-2.81c.8-.78.8-2.07 0-2.86zM5.41 20L4 18.59l7.72-7.72 1.47 1.35L5.41 20z\"/>\n",
              "  </svg>\n",
              "      </button>\n",
              "      \n",
              "  <style>\n",
              "    .colab-df-container {\n",
              "      display:flex;\n",
              "      flex-wrap:wrap;\n",
              "      gap: 12px;\n",
              "    }\n",
              "\n",
              "    .colab-df-convert {\n",
              "      background-color: #E8F0FE;\n",
              "      border: none;\n",
              "      border-radius: 50%;\n",
              "      cursor: pointer;\n",
              "      display: none;\n",
              "      fill: #1967D2;\n",
              "      height: 32px;\n",
              "      padding: 0 0 0 0;\n",
              "      width: 32px;\n",
              "    }\n",
              "\n",
              "    .colab-df-convert:hover {\n",
              "      background-color: #E2EBFA;\n",
              "      box-shadow: 0px 1px 2px rgba(60, 64, 67, 0.3), 0px 1px 3px 1px rgba(60, 64, 67, 0.15);\n",
              "      fill: #174EA6;\n",
              "    }\n",
              "\n",
              "    [theme=dark] .colab-df-convert {\n",
              "      background-color: #3B4455;\n",
              "      fill: #D2E3FC;\n",
              "    }\n",
              "\n",
              "    [theme=dark] .colab-df-convert:hover {\n",
              "      background-color: #434B5C;\n",
              "      box-shadow: 0px 1px 3px 1px rgba(0, 0, 0, 0.15);\n",
              "      filter: drop-shadow(0px 1px 2px rgba(0, 0, 0, 0.3));\n",
              "      fill: #FFFFFF;\n",
              "    }\n",
              "  </style>\n",
              "\n",
              "      <script>\n",
              "        const buttonEl =\n",
              "          document.querySelector('#df-b148b557-6bff-4b09-8935-1522d00db522 button.colab-df-convert');\n",
              "        buttonEl.style.display =\n",
              "          google.colab.kernel.accessAllowed ? 'block' : 'none';\n",
              "\n",
              "        async function convertToInteractive(key) {\n",
              "          const element = document.querySelector('#df-b148b557-6bff-4b09-8935-1522d00db522');\n",
              "          const dataTable =\n",
              "            await google.colab.kernel.invokeFunction('convertToInteractive',\n",
              "                                                     [key], {});\n",
              "          if (!dataTable) return;\n",
              "\n",
              "          const docLinkHtml = 'Like what you see? Visit the ' +\n",
              "            '<a target=\"_blank\" href=https://colab.research.google.com/notebooks/data_table.ipynb>data table notebook</a>'\n",
              "            + ' to learn more about interactive tables.';\n",
              "          element.innerHTML = '';\n",
              "          dataTable['output_type'] = 'display_data';\n",
              "          await google.colab.output.renderOutput(dataTable, element);\n",
              "          const docLink = document.createElement('div');\n",
              "          docLink.innerHTML = docLinkHtml;\n",
              "          element.appendChild(docLink);\n",
              "        }\n",
              "      </script>\n",
              "    </div>\n",
              "  </div>\n",
              "  "
            ]
          },
          "metadata": {},
          "execution_count": 14
        }
      ]
    },
    {
      "cell_type": "code",
      "source": [
        "df_train[df_train['Ценности']==1][['Отзыв','Ценности','Наличие ценности','RecordNo']].head(30)"
      ],
      "metadata": {
        "colab": {
          "base_uri": "https://localhost:8080/",
          "height": 990
        },
        "id": "DvDfd13TN6xb",
        "outputId": "00f42b70-0aa8-43d4-b139-9b0522c0c75c"
      },
      "execution_count": 15,
      "outputs": [
        {
          "output_type": "execute_result",
          "data": {
            "text/plain": [
              "                                                Отзыв  Ценности  \\\n",
              "1   Удивительно, что сейчас возникает ТАКАЯ литера...         1   \n",
              "2   Душевно, жизненно, чувственно, проникновенно!!...         1   \n",
              "6   Это вторая книга атора, которую я прочитал. Ни...         1   \n",
              "7   церковь в начале 90-х В центре повествования П...         1   \n",
              "8   Роман произвёл очень сильное впечатление. Авто...         1   \n",
              "9   На одном дыхании. Без соплей, без чернухи, как...         1   \n",
              "10  Потрясающая книга! Прочитав и перечитав всю Ул...         1   \n",
              "11  Начал знакомство с творчеством Пелевина с этой...         1   \n",
              "12  “Прощание с Матёрой” – книга, которую многие м...         1   \n",
              "13  Первая часть книги – там, где национальный кол...         1   \n",
              "14  Очень понравилась книга! Читается на одном дых...         1   \n",
              "17  Чтобы человеку попасть в мир кота, ему надо пр...         1   \n",
              "18  Для меня это было ацки скучным чтивом. Дослуша...         1   \n",
              "19  Эта книга изменила мой Мир. То, Сёму нас учили...         1   \n",
              "24  Всем кому понравилась сюжетная линия о фотогра...         1   \n",
              "25  Книга очень понравилась. Написана с большой до...         1   \n",
              "26  круто, Акунин на высоте. Читаем с супругой в в...         1   \n",
              "30  Интересная книга о жизни, судьбах в тяжёлое вр...         1   \n",
              "31  Добрый день. Прекрасно! Отлично! Трогательно! ...         1   \n",
              "32  Этот роман – «Доктор Живаго» современной литер...         1   \n",
              "34  При всем уважении к автору… Первую часть просл...         1   \n",
              "35  Потрясена прочитанной книгой. Мир глазами чело...         1   \n",
              "38  Эта книга просто моя любовь. Не припомню больш...         1   \n",
              "39  Книга окунает меня в другой мир. Почувствовала...         1   \n",
              "42  Замечательная книга душевного автора!!! Читает...         1   \n",
              "43  Книга очень понравилась. Задевает за живое, бе...         1   \n",
              "45  ТЕКСТ заинтересовывает с первой минуты! Реальн...         1   \n",
              "46  Грустно и неприятно читать- смерть, кладбище, ...         1   \n",
              "50  Невероятно красивая и живая книга. События опи...         1   \n",
              "51  Очень была воодушевлена множеством хороших отз...         1   \n",
              "\n",
              "    Наличие ценности  RecordNo  \n",
              "1           0.672787      7006  \n",
              "2           0.520586      1124  \n",
              "6           0.837881      7635  \n",
              "7           0.839078      7226  \n",
              "8           0.480657      6194  \n",
              "9           0.505729      3276  \n",
              "10          0.465627      5321  \n",
              "11          0.548906      3383  \n",
              "12          0.839078        80  \n",
              "13          0.674867      4990  \n",
              "14          0.648474      4629  \n",
              "17          0.839078      7477  \n",
              "18          0.538778       997  \n",
              "19          0.837881      7574  \n",
              "24          0.617118       694  \n",
              "25          0.837881      2406  \n",
              "26          0.515759      2944  \n",
              "30          0.640494      1604  \n",
              "31          0.433282      1050  \n",
              "32          0.490167      7772  \n",
              "34          0.592456      5711  \n",
              "35          0.839078      5472  \n",
              "38          0.647278      7601  \n",
              "39          0.461554      2294  \n",
              "42          0.419518      1287  \n",
              "43          0.485680      2398  \n",
              "45          0.639820      6794  \n",
              "46          0.839078       817  \n",
              "50          0.656705      3634  \n",
              "51          0.535746      4385  "
            ],
            "text/html": [
              "\n",
              "  <div id=\"df-eab283ca-f20d-442c-a018-383d78b955ec\">\n",
              "    <div class=\"colab-df-container\">\n",
              "      <div>\n",
              "<style scoped>\n",
              "    .dataframe tbody tr th:only-of-type {\n",
              "        vertical-align: middle;\n",
              "    }\n",
              "\n",
              "    .dataframe tbody tr th {\n",
              "        vertical-align: top;\n",
              "    }\n",
              "\n",
              "    .dataframe thead th {\n",
              "        text-align: right;\n",
              "    }\n",
              "</style>\n",
              "<table border=\"1\" class=\"dataframe\">\n",
              "  <thead>\n",
              "    <tr style=\"text-align: right;\">\n",
              "      <th></th>\n",
              "      <th>Отзыв</th>\n",
              "      <th>Ценности</th>\n",
              "      <th>Наличие ценности</th>\n",
              "      <th>RecordNo</th>\n",
              "    </tr>\n",
              "  </thead>\n",
              "  <tbody>\n",
              "    <tr>\n",
              "      <th>1</th>\n",
              "      <td>Удивительно, что сейчас возникает ТАКАЯ литера...</td>\n",
              "      <td>1</td>\n",
              "      <td>0.672787</td>\n",
              "      <td>7006</td>\n",
              "    </tr>\n",
              "    <tr>\n",
              "      <th>2</th>\n",
              "      <td>Душевно, жизненно, чувственно, проникновенно!!...</td>\n",
              "      <td>1</td>\n",
              "      <td>0.520586</td>\n",
              "      <td>1124</td>\n",
              "    </tr>\n",
              "    <tr>\n",
              "      <th>6</th>\n",
              "      <td>Это вторая книга атора, которую я прочитал. Ни...</td>\n",
              "      <td>1</td>\n",
              "      <td>0.837881</td>\n",
              "      <td>7635</td>\n",
              "    </tr>\n",
              "    <tr>\n",
              "      <th>7</th>\n",
              "      <td>церковь в начале 90-х В центре повествования П...</td>\n",
              "      <td>1</td>\n",
              "      <td>0.839078</td>\n",
              "      <td>7226</td>\n",
              "    </tr>\n",
              "    <tr>\n",
              "      <th>8</th>\n",
              "      <td>Роман произвёл очень сильное впечатление. Авто...</td>\n",
              "      <td>1</td>\n",
              "      <td>0.480657</td>\n",
              "      <td>6194</td>\n",
              "    </tr>\n",
              "    <tr>\n",
              "      <th>9</th>\n",
              "      <td>На одном дыхании. Без соплей, без чернухи, как...</td>\n",
              "      <td>1</td>\n",
              "      <td>0.505729</td>\n",
              "      <td>3276</td>\n",
              "    </tr>\n",
              "    <tr>\n",
              "      <th>10</th>\n",
              "      <td>Потрясающая книга! Прочитав и перечитав всю Ул...</td>\n",
              "      <td>1</td>\n",
              "      <td>0.465627</td>\n",
              "      <td>5321</td>\n",
              "    </tr>\n",
              "    <tr>\n",
              "      <th>11</th>\n",
              "      <td>Начал знакомство с творчеством Пелевина с этой...</td>\n",
              "      <td>1</td>\n",
              "      <td>0.548906</td>\n",
              "      <td>3383</td>\n",
              "    </tr>\n",
              "    <tr>\n",
              "      <th>12</th>\n",
              "      <td>“Прощание с Матёрой” – книга, которую многие м...</td>\n",
              "      <td>1</td>\n",
              "      <td>0.839078</td>\n",
              "      <td>80</td>\n",
              "    </tr>\n",
              "    <tr>\n",
              "      <th>13</th>\n",
              "      <td>Первая часть книги – там, где национальный кол...</td>\n",
              "      <td>1</td>\n",
              "      <td>0.674867</td>\n",
              "      <td>4990</td>\n",
              "    </tr>\n",
              "    <tr>\n",
              "      <th>14</th>\n",
              "      <td>Очень понравилась книга! Читается на одном дых...</td>\n",
              "      <td>1</td>\n",
              "      <td>0.648474</td>\n",
              "      <td>4629</td>\n",
              "    </tr>\n",
              "    <tr>\n",
              "      <th>17</th>\n",
              "      <td>Чтобы человеку попасть в мир кота, ему надо пр...</td>\n",
              "      <td>1</td>\n",
              "      <td>0.839078</td>\n",
              "      <td>7477</td>\n",
              "    </tr>\n",
              "    <tr>\n",
              "      <th>18</th>\n",
              "      <td>Для меня это было ацки скучным чтивом. Дослуша...</td>\n",
              "      <td>1</td>\n",
              "      <td>0.538778</td>\n",
              "      <td>997</td>\n",
              "    </tr>\n",
              "    <tr>\n",
              "      <th>19</th>\n",
              "      <td>Эта книга изменила мой Мир. То, Сёму нас учили...</td>\n",
              "      <td>1</td>\n",
              "      <td>0.837881</td>\n",
              "      <td>7574</td>\n",
              "    </tr>\n",
              "    <tr>\n",
              "      <th>24</th>\n",
              "      <td>Всем кому понравилась сюжетная линия о фотогра...</td>\n",
              "      <td>1</td>\n",
              "      <td>0.617118</td>\n",
              "      <td>694</td>\n",
              "    </tr>\n",
              "    <tr>\n",
              "      <th>25</th>\n",
              "      <td>Книга очень понравилась. Написана с большой до...</td>\n",
              "      <td>1</td>\n",
              "      <td>0.837881</td>\n",
              "      <td>2406</td>\n",
              "    </tr>\n",
              "    <tr>\n",
              "      <th>26</th>\n",
              "      <td>круто, Акунин на высоте. Читаем с супругой в в...</td>\n",
              "      <td>1</td>\n",
              "      <td>0.515759</td>\n",
              "      <td>2944</td>\n",
              "    </tr>\n",
              "    <tr>\n",
              "      <th>30</th>\n",
              "      <td>Интересная книга о жизни, судьбах в тяжёлое вр...</td>\n",
              "      <td>1</td>\n",
              "      <td>0.640494</td>\n",
              "      <td>1604</td>\n",
              "    </tr>\n",
              "    <tr>\n",
              "      <th>31</th>\n",
              "      <td>Добрый день. Прекрасно! Отлично! Трогательно! ...</td>\n",
              "      <td>1</td>\n",
              "      <td>0.433282</td>\n",
              "      <td>1050</td>\n",
              "    </tr>\n",
              "    <tr>\n",
              "      <th>32</th>\n",
              "      <td>Этот роман – «Доктор Живаго» современной литер...</td>\n",
              "      <td>1</td>\n",
              "      <td>0.490167</td>\n",
              "      <td>7772</td>\n",
              "    </tr>\n",
              "    <tr>\n",
              "      <th>34</th>\n",
              "      <td>При всем уважении к автору… Первую часть просл...</td>\n",
              "      <td>1</td>\n",
              "      <td>0.592456</td>\n",
              "      <td>5711</td>\n",
              "    </tr>\n",
              "    <tr>\n",
              "      <th>35</th>\n",
              "      <td>Потрясена прочитанной книгой. Мир глазами чело...</td>\n",
              "      <td>1</td>\n",
              "      <td>0.839078</td>\n",
              "      <td>5472</td>\n",
              "    </tr>\n",
              "    <tr>\n",
              "      <th>38</th>\n",
              "      <td>Эта книга просто моя любовь. Не припомню больш...</td>\n",
              "      <td>1</td>\n",
              "      <td>0.647278</td>\n",
              "      <td>7601</td>\n",
              "    </tr>\n",
              "    <tr>\n",
              "      <th>39</th>\n",
              "      <td>Книга окунает меня в другой мир. Почувствовала...</td>\n",
              "      <td>1</td>\n",
              "      <td>0.461554</td>\n",
              "      <td>2294</td>\n",
              "    </tr>\n",
              "    <tr>\n",
              "      <th>42</th>\n",
              "      <td>Замечательная книга душевного автора!!! Читает...</td>\n",
              "      <td>1</td>\n",
              "      <td>0.419518</td>\n",
              "      <td>1287</td>\n",
              "    </tr>\n",
              "    <tr>\n",
              "      <th>43</th>\n",
              "      <td>Книга очень понравилась. Задевает за живое, бе...</td>\n",
              "      <td>1</td>\n",
              "      <td>0.485680</td>\n",
              "      <td>2398</td>\n",
              "    </tr>\n",
              "    <tr>\n",
              "      <th>45</th>\n",
              "      <td>ТЕКСТ заинтересовывает с первой минуты! Реальн...</td>\n",
              "      <td>1</td>\n",
              "      <td>0.639820</td>\n",
              "      <td>6794</td>\n",
              "    </tr>\n",
              "    <tr>\n",
              "      <th>46</th>\n",
              "      <td>Грустно и неприятно читать- смерть, кладбище, ...</td>\n",
              "      <td>1</td>\n",
              "      <td>0.839078</td>\n",
              "      <td>817</td>\n",
              "    </tr>\n",
              "    <tr>\n",
              "      <th>50</th>\n",
              "      <td>Невероятно красивая и живая книга. События опи...</td>\n",
              "      <td>1</td>\n",
              "      <td>0.656705</td>\n",
              "      <td>3634</td>\n",
              "    </tr>\n",
              "    <tr>\n",
              "      <th>51</th>\n",
              "      <td>Очень была воодушевлена множеством хороших отз...</td>\n",
              "      <td>1</td>\n",
              "      <td>0.535746</td>\n",
              "      <td>4385</td>\n",
              "    </tr>\n",
              "  </tbody>\n",
              "</table>\n",
              "</div>\n",
              "      <button class=\"colab-df-convert\" onclick=\"convertToInteractive('df-eab283ca-f20d-442c-a018-383d78b955ec')\"\n",
              "              title=\"Convert this dataframe to an interactive table.\"\n",
              "              style=\"display:none;\">\n",
              "        \n",
              "  <svg xmlns=\"http://www.w3.org/2000/svg\" height=\"24px\"viewBox=\"0 0 24 24\"\n",
              "       width=\"24px\">\n",
              "    <path d=\"M0 0h24v24H0V0z\" fill=\"none\"/>\n",
              "    <path d=\"M18.56 5.44l.94 2.06.94-2.06 2.06-.94-2.06-.94-.94-2.06-.94 2.06-2.06.94zm-11 1L8.5 8.5l.94-2.06 2.06-.94-2.06-.94L8.5 2.5l-.94 2.06-2.06.94zm10 10l.94 2.06.94-2.06 2.06-.94-2.06-.94-.94-2.06-.94 2.06-2.06.94z\"/><path d=\"M17.41 7.96l-1.37-1.37c-.4-.4-.92-.59-1.43-.59-.52 0-1.04.2-1.43.59L10.3 9.45l-7.72 7.72c-.78.78-.78 2.05 0 2.83L4 21.41c.39.39.9.59 1.41.59.51 0 1.02-.2 1.41-.59l7.78-7.78 2.81-2.81c.8-.78.8-2.07 0-2.86zM5.41 20L4 18.59l7.72-7.72 1.47 1.35L5.41 20z\"/>\n",
              "  </svg>\n",
              "      </button>\n",
              "      \n",
              "  <style>\n",
              "    .colab-df-container {\n",
              "      display:flex;\n",
              "      flex-wrap:wrap;\n",
              "      gap: 12px;\n",
              "    }\n",
              "\n",
              "    .colab-df-convert {\n",
              "      background-color: #E8F0FE;\n",
              "      border: none;\n",
              "      border-radius: 50%;\n",
              "      cursor: pointer;\n",
              "      display: none;\n",
              "      fill: #1967D2;\n",
              "      height: 32px;\n",
              "      padding: 0 0 0 0;\n",
              "      width: 32px;\n",
              "    }\n",
              "\n",
              "    .colab-df-convert:hover {\n",
              "      background-color: #E2EBFA;\n",
              "      box-shadow: 0px 1px 2px rgba(60, 64, 67, 0.3), 0px 1px 3px 1px rgba(60, 64, 67, 0.15);\n",
              "      fill: #174EA6;\n",
              "    }\n",
              "\n",
              "    [theme=dark] .colab-df-convert {\n",
              "      background-color: #3B4455;\n",
              "      fill: #D2E3FC;\n",
              "    }\n",
              "\n",
              "    [theme=dark] .colab-df-convert:hover {\n",
              "      background-color: #434B5C;\n",
              "      box-shadow: 0px 1px 3px 1px rgba(0, 0, 0, 0.15);\n",
              "      filter: drop-shadow(0px 1px 2px rgba(0, 0, 0, 0.3));\n",
              "      fill: #FFFFFF;\n",
              "    }\n",
              "  </style>\n",
              "\n",
              "      <script>\n",
              "        const buttonEl =\n",
              "          document.querySelector('#df-eab283ca-f20d-442c-a018-383d78b955ec button.colab-df-convert');\n",
              "        buttonEl.style.display =\n",
              "          google.colab.kernel.accessAllowed ? 'block' : 'none';\n",
              "\n",
              "        async function convertToInteractive(key) {\n",
              "          const element = document.querySelector('#df-eab283ca-f20d-442c-a018-383d78b955ec');\n",
              "          const dataTable =\n",
              "            await google.colab.kernel.invokeFunction('convertToInteractive',\n",
              "                                                     [key], {});\n",
              "          if (!dataTable) return;\n",
              "\n",
              "          const docLinkHtml = 'Like what you see? Visit the ' +\n",
              "            '<a target=\"_blank\" href=https://colab.research.google.com/notebooks/data_table.ipynb>data table notebook</a>'\n",
              "            + ' to learn more about interactive tables.';\n",
              "          element.innerHTML = '';\n",
              "          dataTable['output_type'] = 'display_data';\n",
              "          await google.colab.output.renderOutput(dataTable, element);\n",
              "          const docLink = document.createElement('div');\n",
              "          docLink.innerHTML = docLinkHtml;\n",
              "          element.appendChild(docLink);\n",
              "        }\n",
              "      </script>\n",
              "    </div>\n",
              "  </div>\n",
              "  "
            ]
          },
          "metadata": {},
          "execution_count": 15
        }
      ]
    },
    {
      "cell_type": "code",
      "source": [
        "df_train[df_train['Ценности']==0][['Отзыв','Ценности','Наличие ценности','RecordNo']].head(30)"
      ],
      "metadata": {
        "colab": {
          "base_uri": "https://localhost:8080/",
          "height": 990
        },
        "id": "SEnn8NSZXfBo",
        "outputId": "e207cd81-f77c-4837-c628-8630e0311527"
      },
      "execution_count": 16,
      "outputs": [
        {
          "output_type": "execute_result",
          "data": {
            "text/plain": [
              "                                                Отзыв  Ценности  \\\n",
              "0   Рекомендую книгу в прочтению/прослушиванию. Ес...         0   \n",
              "3   Очень понравилось. Причем понравилось больше «...         0   \n",
              "4   Круто. Автор и он же чтец – гений. Прослушал н...         0   \n",
              "5   Вообще Прилепин пишет хорошо. Хорошо читается,...         0   \n",
              "15  Спасибо автору прежде всего за прекрасный русс...         0   \n",
              "16  Очень тонкая и чуткая книга, полная страданий ...         0   \n",
              "20  Прочла в первый раз два года назад, тогда рома...         0   \n",
              "21  впечатление о книге Книга Марины Степновой Жен...         0   \n",
              "22  Книга хороша. Она была первой, которую я решил...         0   \n",
              "23  Потрясающая книга! Ощущение, что её писал друг...         0   \n",
              "27  Закончила читать, а в голове до сих пор слова ...         0   \n",
              "28  Это третья прочитанная мной книга Глуховского ...         0   \n",
              "29  Очень зацепила книга. Оторваться невозможно. П...         0   \n",
              "33  Об Обители Здравствуйте! Великолепно! Насладил...         0   \n",
              "36  Книга, хороша для тех кто хочет прочувствовать...         0   \n",
              "37  тонкая и очень печальная история, читается лег...         0   \n",
              "40  тот случай, когда сначала читаешь книгу. фильм...         0   \n",
              "41  Бесподобно! Давно уже не читала ничего подобно...         0   \n",
              "44  Прочитала книгу вопреки негативным отзывам. И ...         0   \n",
              "47  Книга интересна широким охватом истории в лица...         0   \n",
              "48  Книга понравилась. Мне кажется она в точности ...         0   \n",
              "49  Книга захватила сюжетом, прочла на одном дыхан...         0   \n",
              "54  Прекрасная книга! Рекомендую к прочтению. Эпич...         0   \n",
              "56  Не оправдала ожиданий и совсем не тронула. Не ...         0   \n",
              "57  это художественная литература к истории имеюща...         0   \n",
              "59  Понравилась. Читается, что невозможно оторвать...         0   \n",
              "60  Автор смог ухватить и описать многие современн...         0   \n",
              "61  Великолепная книга! Какой вкусный слог! Одна и...         0   \n",
              "63  Хороший роман. Тонкий, трогательный. Однако вт...         0   \n",
              "64  Это шедевр! Сколько я не знала об истории свое...         0   \n",
              "\n",
              "    Наличие ценности  RecordNo  \n",
              "0           0.488613      6145  \n",
              "3           0.441867      4716  \n",
              "4           0.475271      2946  \n",
              "5           0.525078       592  \n",
              "15          0.641661      6554  \n",
              "16          0.639298      4843  \n",
              "20          0.535746      6052  \n",
              "21          0.462231       648  \n",
              "22          0.535746      2703  \n",
              "23          0.451047      5310  \n",
              "27          0.635318      1271  \n",
              "28          0.485803      7745  \n",
              "29          0.467641      4463  \n",
              "33          0.416418      3891  \n",
              "36          0.626015      2799  \n",
              "37          0.396227      6841  \n",
              "40          0.349894      6854  \n",
              "41          0.415464       256  \n",
              "44          0.548906      5940  \n",
              "47          0.639298      2121  \n",
              "48          0.673670      2510  \n",
              "49          0.425496      2078  \n",
              "54          0.429935      5545  \n",
              "56          0.458833      3503  \n",
              "57          0.548906      7752  \n",
              "59          0.442815      5170  \n",
              "60          0.436561       174  \n",
              "61          0.390983       437  \n",
              "63          0.505632      7177  \n",
              "64          0.493625      7761  "
            ],
            "text/html": [
              "\n",
              "  <div id=\"df-cb7ffd32-de5f-432e-b972-9965b58050e1\">\n",
              "    <div class=\"colab-df-container\">\n",
              "      <div>\n",
              "<style scoped>\n",
              "    .dataframe tbody tr th:only-of-type {\n",
              "        vertical-align: middle;\n",
              "    }\n",
              "\n",
              "    .dataframe tbody tr th {\n",
              "        vertical-align: top;\n",
              "    }\n",
              "\n",
              "    .dataframe thead th {\n",
              "        text-align: right;\n",
              "    }\n",
              "</style>\n",
              "<table border=\"1\" class=\"dataframe\">\n",
              "  <thead>\n",
              "    <tr style=\"text-align: right;\">\n",
              "      <th></th>\n",
              "      <th>Отзыв</th>\n",
              "      <th>Ценности</th>\n",
              "      <th>Наличие ценности</th>\n",
              "      <th>RecordNo</th>\n",
              "    </tr>\n",
              "  </thead>\n",
              "  <tbody>\n",
              "    <tr>\n",
              "      <th>0</th>\n",
              "      <td>Рекомендую книгу в прочтению/прослушиванию. Ес...</td>\n",
              "      <td>0</td>\n",
              "      <td>0.488613</td>\n",
              "      <td>6145</td>\n",
              "    </tr>\n",
              "    <tr>\n",
              "      <th>3</th>\n",
              "      <td>Очень понравилось. Причем понравилось больше «...</td>\n",
              "      <td>0</td>\n",
              "      <td>0.441867</td>\n",
              "      <td>4716</td>\n",
              "    </tr>\n",
              "    <tr>\n",
              "      <th>4</th>\n",
              "      <td>Круто. Автор и он же чтец – гений. Прослушал н...</td>\n",
              "      <td>0</td>\n",
              "      <td>0.475271</td>\n",
              "      <td>2946</td>\n",
              "    </tr>\n",
              "    <tr>\n",
              "      <th>5</th>\n",
              "      <td>Вообще Прилепин пишет хорошо. Хорошо читается,...</td>\n",
              "      <td>0</td>\n",
              "      <td>0.525078</td>\n",
              "      <td>592</td>\n",
              "    </tr>\n",
              "    <tr>\n",
              "      <th>15</th>\n",
              "      <td>Спасибо автору прежде всего за прекрасный русс...</td>\n",
              "      <td>0</td>\n",
              "      <td>0.641661</td>\n",
              "      <td>6554</td>\n",
              "    </tr>\n",
              "    <tr>\n",
              "      <th>16</th>\n",
              "      <td>Очень тонкая и чуткая книга, полная страданий ...</td>\n",
              "      <td>0</td>\n",
              "      <td>0.639298</td>\n",
              "      <td>4843</td>\n",
              "    </tr>\n",
              "    <tr>\n",
              "      <th>20</th>\n",
              "      <td>Прочла в первый раз два года назад, тогда рома...</td>\n",
              "      <td>0</td>\n",
              "      <td>0.535746</td>\n",
              "      <td>6052</td>\n",
              "    </tr>\n",
              "    <tr>\n",
              "      <th>21</th>\n",
              "      <td>впечатление о книге Книга Марины Степновой Жен...</td>\n",
              "      <td>0</td>\n",
              "      <td>0.462231</td>\n",
              "      <td>648</td>\n",
              "    </tr>\n",
              "    <tr>\n",
              "      <th>22</th>\n",
              "      <td>Книга хороша. Она была первой, которую я решил...</td>\n",
              "      <td>0</td>\n",
              "      <td>0.535746</td>\n",
              "      <td>2703</td>\n",
              "    </tr>\n",
              "    <tr>\n",
              "      <th>23</th>\n",
              "      <td>Потрясающая книга! Ощущение, что её писал друг...</td>\n",
              "      <td>0</td>\n",
              "      <td>0.451047</td>\n",
              "      <td>5310</td>\n",
              "    </tr>\n",
              "    <tr>\n",
              "      <th>27</th>\n",
              "      <td>Закончила читать, а в голове до сих пор слова ...</td>\n",
              "      <td>0</td>\n",
              "      <td>0.635318</td>\n",
              "      <td>1271</td>\n",
              "    </tr>\n",
              "    <tr>\n",
              "      <th>28</th>\n",
              "      <td>Это третья прочитанная мной книга Глуховского ...</td>\n",
              "      <td>0</td>\n",
              "      <td>0.485803</td>\n",
              "      <td>7745</td>\n",
              "    </tr>\n",
              "    <tr>\n",
              "      <th>29</th>\n",
              "      <td>Очень зацепила книга. Оторваться невозможно. П...</td>\n",
              "      <td>0</td>\n",
              "      <td>0.467641</td>\n",
              "      <td>4463</td>\n",
              "    </tr>\n",
              "    <tr>\n",
              "      <th>33</th>\n",
              "      <td>Об Обители Здравствуйте! Великолепно! Насладил...</td>\n",
              "      <td>0</td>\n",
              "      <td>0.416418</td>\n",
              "      <td>3891</td>\n",
              "    </tr>\n",
              "    <tr>\n",
              "      <th>36</th>\n",
              "      <td>Книга, хороша для тех кто хочет прочувствовать...</td>\n",
              "      <td>0</td>\n",
              "      <td>0.626015</td>\n",
              "      <td>2799</td>\n",
              "    </tr>\n",
              "    <tr>\n",
              "      <th>37</th>\n",
              "      <td>тонкая и очень печальная история, читается лег...</td>\n",
              "      <td>0</td>\n",
              "      <td>0.396227</td>\n",
              "      <td>6841</td>\n",
              "    </tr>\n",
              "    <tr>\n",
              "      <th>40</th>\n",
              "      <td>тот случай, когда сначала читаешь книгу. фильм...</td>\n",
              "      <td>0</td>\n",
              "      <td>0.349894</td>\n",
              "      <td>6854</td>\n",
              "    </tr>\n",
              "    <tr>\n",
              "      <th>41</th>\n",
              "      <td>Бесподобно! Давно уже не читала ничего подобно...</td>\n",
              "      <td>0</td>\n",
              "      <td>0.415464</td>\n",
              "      <td>256</td>\n",
              "    </tr>\n",
              "    <tr>\n",
              "      <th>44</th>\n",
              "      <td>Прочитала книгу вопреки негативным отзывам. И ...</td>\n",
              "      <td>0</td>\n",
              "      <td>0.548906</td>\n",
              "      <td>5940</td>\n",
              "    </tr>\n",
              "    <tr>\n",
              "      <th>47</th>\n",
              "      <td>Книга интересна широким охватом истории в лица...</td>\n",
              "      <td>0</td>\n",
              "      <td>0.639298</td>\n",
              "      <td>2121</td>\n",
              "    </tr>\n",
              "    <tr>\n",
              "      <th>48</th>\n",
              "      <td>Книга понравилась. Мне кажется она в точности ...</td>\n",
              "      <td>0</td>\n",
              "      <td>0.673670</td>\n",
              "      <td>2510</td>\n",
              "    </tr>\n",
              "    <tr>\n",
              "      <th>49</th>\n",
              "      <td>Книга захватила сюжетом, прочла на одном дыхан...</td>\n",
              "      <td>0</td>\n",
              "      <td>0.425496</td>\n",
              "      <td>2078</td>\n",
              "    </tr>\n",
              "    <tr>\n",
              "      <th>54</th>\n",
              "      <td>Прекрасная книга! Рекомендую к прочтению. Эпич...</td>\n",
              "      <td>0</td>\n",
              "      <td>0.429935</td>\n",
              "      <td>5545</td>\n",
              "    </tr>\n",
              "    <tr>\n",
              "      <th>56</th>\n",
              "      <td>Не оправдала ожиданий и совсем не тронула. Не ...</td>\n",
              "      <td>0</td>\n",
              "      <td>0.458833</td>\n",
              "      <td>3503</td>\n",
              "    </tr>\n",
              "    <tr>\n",
              "      <th>57</th>\n",
              "      <td>это художественная литература к истории имеюща...</td>\n",
              "      <td>0</td>\n",
              "      <td>0.548906</td>\n",
              "      <td>7752</td>\n",
              "    </tr>\n",
              "    <tr>\n",
              "      <th>59</th>\n",
              "      <td>Понравилась. Читается, что невозможно оторвать...</td>\n",
              "      <td>0</td>\n",
              "      <td>0.442815</td>\n",
              "      <td>5170</td>\n",
              "    </tr>\n",
              "    <tr>\n",
              "      <th>60</th>\n",
              "      <td>Автор смог ухватить и описать многие современн...</td>\n",
              "      <td>0</td>\n",
              "      <td>0.436561</td>\n",
              "      <td>174</td>\n",
              "    </tr>\n",
              "    <tr>\n",
              "      <th>61</th>\n",
              "      <td>Великолепная книга! Какой вкусный слог! Одна и...</td>\n",
              "      <td>0</td>\n",
              "      <td>0.390983</td>\n",
              "      <td>437</td>\n",
              "    </tr>\n",
              "    <tr>\n",
              "      <th>63</th>\n",
              "      <td>Хороший роман. Тонкий, трогательный. Однако вт...</td>\n",
              "      <td>0</td>\n",
              "      <td>0.505632</td>\n",
              "      <td>7177</td>\n",
              "    </tr>\n",
              "    <tr>\n",
              "      <th>64</th>\n",
              "      <td>Это шедевр! Сколько я не знала об истории свое...</td>\n",
              "      <td>0</td>\n",
              "      <td>0.493625</td>\n",
              "      <td>7761</td>\n",
              "    </tr>\n",
              "  </tbody>\n",
              "</table>\n",
              "</div>\n",
              "      <button class=\"colab-df-convert\" onclick=\"convertToInteractive('df-cb7ffd32-de5f-432e-b972-9965b58050e1')\"\n",
              "              title=\"Convert this dataframe to an interactive table.\"\n",
              "              style=\"display:none;\">\n",
              "        \n",
              "  <svg xmlns=\"http://www.w3.org/2000/svg\" height=\"24px\"viewBox=\"0 0 24 24\"\n",
              "       width=\"24px\">\n",
              "    <path d=\"M0 0h24v24H0V0z\" fill=\"none\"/>\n",
              "    <path d=\"M18.56 5.44l.94 2.06.94-2.06 2.06-.94-2.06-.94-.94-2.06-.94 2.06-2.06.94zm-11 1L8.5 8.5l.94-2.06 2.06-.94-2.06-.94L8.5 2.5l-.94 2.06-2.06.94zm10 10l.94 2.06.94-2.06 2.06-.94-2.06-.94-.94-2.06-.94 2.06-2.06.94z\"/><path d=\"M17.41 7.96l-1.37-1.37c-.4-.4-.92-.59-1.43-.59-.52 0-1.04.2-1.43.59L10.3 9.45l-7.72 7.72c-.78.78-.78 2.05 0 2.83L4 21.41c.39.39.9.59 1.41.59.51 0 1.02-.2 1.41-.59l7.78-7.78 2.81-2.81c.8-.78.8-2.07 0-2.86zM5.41 20L4 18.59l7.72-7.72 1.47 1.35L5.41 20z\"/>\n",
              "  </svg>\n",
              "      </button>\n",
              "      \n",
              "  <style>\n",
              "    .colab-df-container {\n",
              "      display:flex;\n",
              "      flex-wrap:wrap;\n",
              "      gap: 12px;\n",
              "    }\n",
              "\n",
              "    .colab-df-convert {\n",
              "      background-color: #E8F0FE;\n",
              "      border: none;\n",
              "      border-radius: 50%;\n",
              "      cursor: pointer;\n",
              "      display: none;\n",
              "      fill: #1967D2;\n",
              "      height: 32px;\n",
              "      padding: 0 0 0 0;\n",
              "      width: 32px;\n",
              "    }\n",
              "\n",
              "    .colab-df-convert:hover {\n",
              "      background-color: #E2EBFA;\n",
              "      box-shadow: 0px 1px 2px rgba(60, 64, 67, 0.3), 0px 1px 3px 1px rgba(60, 64, 67, 0.15);\n",
              "      fill: #174EA6;\n",
              "    }\n",
              "\n",
              "    [theme=dark] .colab-df-convert {\n",
              "      background-color: #3B4455;\n",
              "      fill: #D2E3FC;\n",
              "    }\n",
              "\n",
              "    [theme=dark] .colab-df-convert:hover {\n",
              "      background-color: #434B5C;\n",
              "      box-shadow: 0px 1px 3px 1px rgba(0, 0, 0, 0.15);\n",
              "      filter: drop-shadow(0px 1px 2px rgba(0, 0, 0, 0.3));\n",
              "      fill: #FFFFFF;\n",
              "    }\n",
              "  </style>\n",
              "\n",
              "      <script>\n",
              "        const buttonEl =\n",
              "          document.querySelector('#df-cb7ffd32-de5f-432e-b972-9965b58050e1 button.colab-df-convert');\n",
              "        buttonEl.style.display =\n",
              "          google.colab.kernel.accessAllowed ? 'block' : 'none';\n",
              "\n",
              "        async function convertToInteractive(key) {\n",
              "          const element = document.querySelector('#df-cb7ffd32-de5f-432e-b972-9965b58050e1');\n",
              "          const dataTable =\n",
              "            await google.colab.kernel.invokeFunction('convertToInteractive',\n",
              "                                                     [key], {});\n",
              "          if (!dataTable) return;\n",
              "\n",
              "          const docLinkHtml = 'Like what you see? Visit the ' +\n",
              "            '<a target=\"_blank\" href=https://colab.research.google.com/notebooks/data_table.ipynb>data table notebook</a>'\n",
              "            + ' to learn more about interactive tables.';\n",
              "          element.innerHTML = '';\n",
              "          dataTable['output_type'] = 'display_data';\n",
              "          await google.colab.output.renderOutput(dataTable, element);\n",
              "          const docLink = document.createElement('div');\n",
              "          docLink.innerHTML = docLinkHtml;\n",
              "          element.appendChild(docLink);\n",
              "        }\n",
              "      </script>\n",
              "    </div>\n",
              "  </div>\n",
              "  "
            ]
          },
          "metadata": {},
          "execution_count": 16
        }
      ]
    },
    {
      "cell_type": "code",
      "source": [
        "df_train[df_train['RecordNo']==6194]['Отзыв']"
      ],
      "metadata": {
        "colab": {
          "base_uri": "https://localhost:8080/"
        },
        "id": "bkjGfYAfTubc",
        "outputId": "28e4dd22-01c2-4b93-e276-303b8155dad7"
      },
      "execution_count": 17,
      "outputs": [
        {
          "output_type": "execute_result",
          "data": {
            "text/plain": [
              "8    Роман произвёл очень сильное впечатление. Авто...\n",
              "Name: Отзыв, dtype: object"
            ]
          },
          "metadata": {},
          "execution_count": 17
        }
      ]
    },
    {
      "cell_type": "markdown",
      "source": [
        "## Добавление признаков при помощи Dostoevsky"
      ],
      "metadata": {
        "id": "crlIOC5R2EOH"
      }
    },
    {
      "cell_type": "code",
      "source": [
        "# Инсталируем библиотеку\n",
        "!pip install dostoevsky\n",
        "\n",
        "# Сразу загружаем предобученную модель на данных вконтакте RuSentiment\n",
        "!python -m dostoevsky download fasttext-social-network-model"
      ],
      "metadata": {
        "colab": {
          "base_uri": "https://localhost:8080/"
        },
        "id": "6weXks_U2Dn8",
        "outputId": "0b1353f7-3d2a-4f11-8276-c9d39fb19665"
      },
      "execution_count": 18,
      "outputs": [
        {
          "output_type": "stream",
          "name": "stdout",
          "text": [
            "Looking in indexes: https://pypi.org/simple, https://us-python.pkg.dev/colab-wheels/public/simple/\n",
            "Collecting dostoevsky\n",
            "  Downloading dostoevsky-0.6.0-py2.py3-none-any.whl (8.5 kB)\n",
            "Collecting razdel==0.5.0\n",
            "  Downloading razdel-0.5.0-py3-none-any.whl (21 kB)\n",
            "Collecting fasttext==0.9.2\n",
            "  Downloading fasttext-0.9.2.tar.gz (68 kB)\n",
            "\u001b[K     |████████████████████████████████| 68 kB 3.0 MB/s \n",
            "\u001b[?25hCollecting pybind11>=2.2\n",
            "  Using cached pybind11-2.10.0-py3-none-any.whl (213 kB)\n",
            "Requirement already satisfied: setuptools>=0.7.0 in /usr/local/lib/python3.7/dist-packages (from fasttext==0.9.2->dostoevsky) (57.4.0)\n",
            "Requirement already satisfied: numpy in /usr/local/lib/python3.7/dist-packages (from fasttext==0.9.2->dostoevsky) (1.21.6)\n",
            "Building wheels for collected packages: fasttext\n",
            "  Building wheel for fasttext (setup.py) ... \u001b[?25l\u001b[?25hdone\n",
            "  Created wheel for fasttext: filename=fasttext-0.9.2-cp37-cp37m-linux_x86_64.whl size=3165341 sha256=88212a5ecd6fe21bee0a2f6ef7756d9233aec84866c09b51a0024491ab509974\n",
            "  Stored in directory: /root/.cache/pip/wheels/4e/ca/bf/b020d2be95f7641801a6597a29c8f4f19e38f9c02a345bab9b\n",
            "Successfully built fasttext\n",
            "Installing collected packages: pybind11, razdel, fasttext, dostoevsky\n",
            "Successfully installed dostoevsky-0.6.0 fasttext-0.9.2 pybind11-2.10.0 razdel-0.5.0\n"
          ]
        }
      ]
    },
    {
      "cell_type": "code",
      "source": [
        "# Подключаем библиотеку и модель\n",
        "from dostoevsky.tokenization import RegexTokenizer\n",
        "from dostoevsky.models import FastTextSocialNetworkModel\n",
        "\n",
        "tokenizer = RegexTokenizer()\n",
        "model = FastTextSocialNetworkModel(tokenizer=tokenizer)\n",
        "messages = []"
      ],
      "metadata": {
        "colab": {
          "base_uri": "https://localhost:8080/"
        },
        "id": "8RGQ6jyI2b33",
        "outputId": "4081c6c2-30b9-44e2-809f-c3fd946587ac"
      },
      "execution_count": 19,
      "outputs": [
        {
          "output_type": "stream",
          "name": "stderr",
          "text": [
            "Warning : `load_model` does not return WordVectorModel or SupervisedModel any more, but a `FastText` object which is very similar.\n"
          ]
        }
      ]
    },
    {
      "cell_type": "code",
      "source": [
        "# Проводим анализ тональности только для предложений, в которых есть упоминания о еде. \n",
        "rez=[]\n",
        "\n",
        "for index, rows  in tqdm(df_train.iterrows()):\n",
        "    \n",
        "        messages=[]\n",
        "        messages.append(rows['Отзыв'])\n",
        "        results = model.predict(messages, k=2)\n",
        "        for message, sentiment in zip(messages, results):\n",
        "            # сразу выводим результат\n",
        "            neutral = 0\n",
        "            positive=0\n",
        "            negative=0\n",
        "            skip=0\n",
        "            if 'neutral' in sentiment:\n",
        "                neutral = sentiment['neutral']\n",
        "            if 'positive' in sentiment:\n",
        "                positive = sentiment['positive']\n",
        "            if 'negative' in sentiment:\n",
        "                negative = sentiment['negative']\n",
        "            if 'skip' in sentiment:\n",
        "                skip = sentiment['skip']\n",
        "            rez.append([rows['RecordNo'], positive, neutral, negative, skip])\n",
        "            #print (sentiment)\n",
        "\n",
        "df_train_dostoevsky = pd.DataFrame(rez ,columns=['RecordNo', 'positive', 'neutral', 'negative','skip'])  \n",
        "\n",
        "df_train = df_train.merge(df_train_dostoevsky, on='RecordNo',  how='left' )"
      ],
      "metadata": {
        "colab": {
          "base_uri": "https://localhost:8080/"
        },
        "id": "fbABEO-W3BGs",
        "outputId": "7d124ee1-f7bc-4065-aa67-5c4d6c5ce9a0"
      },
      "execution_count": 20,
      "outputs": [
        {
          "output_type": "stream",
          "name": "stderr",
          "text": [
            "4839it [00:04, 1089.77it/s]\n"
          ]
        }
      ]
    },
    {
      "cell_type": "code",
      "source": [
        "df_train.info()"
      ],
      "metadata": {
        "colab": {
          "base_uri": "https://localhost:8080/"
        },
        "id": "GVnGE07nBTnA",
        "outputId": "3bc87813-0353-4ee7-a8e4-c0dbdca790f9"
      },
      "execution_count": 21,
      "outputs": [
        {
          "output_type": "stream",
          "name": "stdout",
          "text": [
            "<class 'pandas.core.frame.DataFrame'>\n",
            "Int64Index: 4839 entries, 0 to 4838\n",
            "Data columns (total 24 columns):\n",
            " #   Column                                Non-Null Count  Dtype  \n",
            "---  ------                                --------------  -----  \n",
            " 0   RecordNo                              4839 non-null   int64  \n",
            " 1   Название книги                        4839 non-null   object \n",
            " 2   Автор                                 4839 non-null   object \n",
            " 3   Ссылка на литрес                      4839 non-null   object \n",
            " 4   Рейтинг                               4839 non-null   float64\n",
            " 5   Количество оценок                     4839 non-null   int64  \n",
            " 6   Количество отзывов                    4839 non-null   int64  \n",
            " 7   Имя читателя                          4839 non-null   object \n",
            " 8   Оценка книги читателем (из 5 баллов)  4839 non-null   float64\n",
            " 9   Отзыв                                 4839 non-null   object \n",
            " 10  Лайки на отзыв                        4839 non-null   int64  \n",
            " 11  Дислайки на отзыв                     4839 non-null   int64  \n",
            " 12  Релевантность                         4839 non-null   int64  \n",
            " 13  Таксономия релевантные                4839 non-null   int64  \n",
            " 14  Таксономия не релевантные             4839 non-null   int64  \n",
            " 15  Длина отзыва                          4839 non-null   int64  \n",
            " 16  Ценности                              4839 non-null   int64  \n",
            " 17  len_reviews                           4839 non-null   int64  \n",
            " 18  Соответствие коду                     4839 non-null   float32\n",
            " 19  Наличие ценности                      4839 non-null   float64\n",
            " 20  positive                              4839 non-null   float64\n",
            " 21  neutral                               4839 non-null   float64\n",
            " 22  negative                              4839 non-null   float64\n",
            " 23  skip                                  4839 non-null   float64\n",
            "dtypes: float32(1), float64(7), int64(11), object(5)\n",
            "memory usage: 926.2+ KB\n"
          ]
        }
      ]
    },
    {
      "cell_type": "markdown",
      "metadata": {
        "id": "4cxnT51gu5fJ"
      },
      "source": [
        "## Построим на распределение данных"
      ]
    },
    {
      "cell_type": "code",
      "execution_count": 22,
      "metadata": {
        "colab": {
          "base_uri": "https://localhost:8080/",
          "height": 295
        },
        "id": "205eCTRPu3Au",
        "outputId": "ad4e01ab-2041-4aa5-f79b-9a5efa48938c"
      },
      "outputs": [
        {
          "output_type": "display_data",
          "data": {
            "text/plain": [
              "<Figure size 432x288 with 1 Axes>"
            ],
            "image/png": "[encoded data removed]"
          },
          "metadata": {
            "needs_background": "light"
          }
        }
      ],
      "source": [
        "_ = sns.countplot(x = \"Рейтинг\" , data  = df_train).set_title('Распределение рейтинга книг')"
      ]
    },
    {
      "cell_type": "markdown",
      "metadata": {
        "id": "Q0CkiEzGwusL"
      },
      "source": [
        "Взглянем на несколько величин сразу"
      ]
    },
    {
      "cell_type": "code",
      "execution_count": 23,
      "metadata": {
        "colab": {
          "base_uri": "https://localhost:8080/"
        },
        "id": "rliZR2Asw6HW",
        "outputId": "2c947cbc-be5c-4f4f-83c4-203366bdf7bd"
      },
      "outputs": [
        {
          "output_type": "execute_result",
          "data": {
            "text/plain": [
              "array(['RecordNo', 'Название книги', 'Автор', 'Ссылка на литрес',\n",
              "       'Рейтинг', 'Количество оценок', 'Количество отзывов',\n",
              "       'Имя читателя', 'Оценка книги читателем (из 5 баллов)', 'Отзыв',\n",
              "       'Лайки на отзыв', 'Дислайки на отзыв', 'Релевантность',\n",
              "       'Таксономия релевантные', 'Таксономия не релевантные',\n",
              "       'Длина отзыва', 'Ценности', 'len_reviews', 'Соответствие коду',\n",
              "       'Наличие ценности', 'positive', 'neutral', 'negative', 'skip'],\n",
              "      dtype=object)"
            ]
          },
          "metadata": {},
          "execution_count": 23
        }
      ],
      "source": [
        "df_train.columns.values"
      ]
    },
    {
      "cell_type": "code",
      "execution_count": 24,
      "metadata": {
        "colab": {
          "base_uri": "https://localhost:8080/",
          "height": 716
        },
        "id": "NM_Cufl3u3H0",
        "outputId": "d5e73166-709c-4034-f693-eedae70a016f"
      },
      "outputs": [
        {
          "output_type": "display_data",
          "data": {
            "text/plain": [
              "<Figure size 1440x864 with 20 Axes>"
            ],
            "image/png": "[encoded data removed]"
          },
          "metadata": {
            "needs_background": "light"
          }
        }
      ],
      "source": [
        "features = list(set(df_train.columns.values) - set(['RecordNo']))\n",
        "\n",
        "_ = df_train[features].hist(figsize=(20,12))"
      ]
    },
    {
      "cell_type": "code",
      "execution_count": 25,
      "metadata": {
        "colab": {
          "base_uri": "https://localhost:8080/"
        },
        "id": "m1D4sPQzxS5l",
        "outputId": "346947e3-f048-48cc-b241-334f9d43ac13"
      },
      "outputs": [
        {
          "output_type": "execute_result",
          "data": {
            "text/plain": [
              "0      2304\n",
              "1      1487\n",
              "2       320\n",
              "3       275\n",
              "4       147\n",
              "5        79\n",
              "6        51\n",
              "7        31\n",
              "8        28\n",
              "10       14\n",
              "13       12\n",
              "9        11\n",
              "11        9\n",
              "12        8\n",
              "16        7\n",
              "19        5\n",
              "14        4\n",
              "35        4\n",
              "17        4\n",
              "15        4\n",
              "28        3\n",
              "21        2\n",
              "18        2\n",
              "32        2\n",
              "108       2\n",
              "22        2\n",
              "24        2\n",
              "29        1\n",
              "117       1\n",
              "235       1\n",
              "181       1\n",
              "459       1\n",
              "56        1\n",
              "69        1\n",
              "37        1\n",
              "256       1\n",
              "147       1\n",
              "317       1\n",
              "57        1\n",
              "66        1\n",
              "91        1\n",
              "53        1\n",
              "33        1\n",
              "20        1\n",
              "41        1\n",
              "40        1\n",
              "23        1\n",
              "Name: Дислайки на отзыв, dtype: int64"
            ]
          },
          "metadata": {},
          "execution_count": 25
        }
      ],
      "source": [
        "df_train[\"Дислайки на отзыв\"].value_counts()"
      ]
    },
    {
      "cell_type": "code",
      "execution_count": 26,
      "metadata": {
        "colab": {
          "base_uri": "https://localhost:8080/",
          "height": 990
        },
        "id": "VnDPAAahyOnw",
        "outputId": "dc257f37-9988-4ad2-faeb-edd0aca30c2d"
      },
      "outputs": [
        {
          "output_type": "display_data",
          "data": {
            "text/plain": [
              "<Figure size 1080x1080 with 2 Axes>"
            ],
            "image/png": "[encoded data removed]"
          },
          "metadata": {
            "needs_background": "light"
          }
        }
      ],
      "source": [
        "plt.rcParams['figure.figsize']=(15,15)\n",
        "\n",
        "g = sns.heatmap(df_train.corr(), square = True, annot=True)"
      ]
    },
    {
      "cell_type": "markdown",
      "metadata": {
        "id": "870l_9AGdTvF"
      },
      "source": [
        "## Выделим выборки"
      ]
    },
    {
      "cell_type": "code",
      "execution_count": 27,
      "metadata": {
        "id": "kPyQKVp8hdjK"
      },
      "outputs": [],
      "source": [
        "mass_label = ['Релевантность',\n",
        "       'Таксономия релевантные', 'Таксономия не релевантные',\n",
        "       'Длина отзыва', 'Ценности']"
      ]
    },
    {
      "cell_type": "code",
      "execution_count": 28,
      "metadata": {
        "id": "9_BLw43jh6pO"
      },
      "outputs": [],
      "source": [
        "object_label = df_train.dtypes[df_train.dtypes == \"object\"].index.values\n",
        "object_label = [ 'Ссылка на литрес','Отзыв' , 'Имя читателя']"
      ]
    },
    {
      "cell_type": "code",
      "source": [
        "cat_cols = ['Название книги', 'Автор']"
      ],
      "metadata": {
        "id": "a07ALXIc4-SA"
      },
      "execution_count": 29,
      "outputs": []
    },
    {
      "cell_type": "code",
      "execution_count": 30,
      "metadata": {
        "id": "TqKjhDDYmB4M"
      },
      "outputs": [],
      "source": [
        "object_label = np.append(object_label,\"RecordNo\")"
      ]
    },
    {
      "cell_type": "code",
      "execution_count": 31,
      "metadata": {
        "id": "R4fN_sD-dGSG"
      },
      "outputs": [],
      "source": [
        "X = df_train.drop(mass_label, axis = 1)\n",
        "X = X.drop(object_label, axis = 1)\n",
        "\n",
        "y = df_train[mass_label]"
      ]
    },
    {
      "cell_type": "code",
      "execution_count": 32,
      "metadata": {
        "colab": {
          "base_uri": "https://localhost:8080/"
        },
        "id": "Xbgef81UdZJL",
        "outputId": "ffa64fbf-a858-43df-c501-788bf203b7cc"
      },
      "outputs": [
        {
          "output_type": "stream",
          "name": "stdout",
          "text": [
            "<class 'pandas.core.frame.DataFrame'>\n",
            "Int64Index: 4839 entries, 0 to 4838\n",
            "Data columns (total 15 columns):\n",
            " #   Column                                Non-Null Count  Dtype  \n",
            "---  ------                                --------------  -----  \n",
            " 0   Название книги                        4839 non-null   object \n",
            " 1   Автор                                 4839 non-null   object \n",
            " 2   Рейтинг                               4839 non-null   float64\n",
            " 3   Количество оценок                     4839 non-null   int64  \n",
            " 4   Количество отзывов                    4839 non-null   int64  \n",
            " 5   Оценка книги читателем (из 5 баллов)  4839 non-null   float64\n",
            " 6   Лайки на отзыв                        4839 non-null   int64  \n",
            " 7   Дислайки на отзыв                     4839 non-null   int64  \n",
            " 8   len_reviews                           4839 non-null   int64  \n",
            " 9   Соответствие коду                     4839 non-null   float32\n",
            " 10  Наличие ценности                      4839 non-null   float64\n",
            " 11  positive                              4839 non-null   float64\n",
            " 12  neutral                               4839 non-null   float64\n",
            " 13  negative                              4839 non-null   float64\n",
            " 14  skip                                  4839 non-null   float64\n",
            "dtypes: float32(1), float64(7), int64(5), object(2)\n",
            "memory usage: 715.0+ KB\n"
          ]
        }
      ],
      "source": [
        "X.info()"
      ]
    },
    {
      "cell_type": "code",
      "execution_count": 33,
      "metadata": {
        "id": "_e7ZJ3QjdZLW"
      },
      "outputs": [],
      "source": [
        "X_train, X_test, y_train, y_test = train_test_split(X, y, test_size=0.2, random_state=42)"
      ]
    },
    {
      "cell_type": "markdown",
      "metadata": {
        "id": "wWOMlu5megED"
      },
      "source": [
        "## Обучение модели"
      ]
    },
    {
      "cell_type": "code",
      "source": [
        "y_train_v = y_train['Ценности']"
      ],
      "metadata": {
        "id": "sjR0WN1cZ_fP"
      },
      "execution_count": 34,
      "outputs": []
    },
    {
      "cell_type": "code",
      "source": [
        "y_train_r = y_train['Релевантность']\n",
        "y_train_tr = y_train['Таксономия релевантные']\n",
        "y_train_tnr = y_train['Таксономия не релевантные']\n",
        "y_train_l = y_train['Длина отзыва']"
      ],
      "metadata": {
        "id": "1x4toQy7-CZD"
      },
      "execution_count": 35,
      "outputs": []
    },
    {
      "cell_type": "code",
      "source": [
        "!pip install catboost\n",
        "from catboost import CatBoostClassifier\n"
      ],
      "metadata": {
        "colab": {
          "base_uri": "https://localhost:8080/"
        },
        "id": "4vaA4DUUe2Kp",
        "outputId": "c3c115b7-9186-4ec7-c837-80e16de120ca"
      },
      "execution_count": 36,
      "outputs": [
        {
          "output_type": "stream",
          "name": "stdout",
          "text": [
            "Looking in indexes: https://pypi.org/simple, https://us-python.pkg.dev/colab-wheels/public/simple/\n",
            "Collecting catboost\n",
            "  Downloading catboost-1.1-cp37-none-manylinux1_x86_64.whl (76.8 MB)\n",
            "\u001b[K     |████████████████████████████████| 76.8 MB 15 kB/s \n",
            "\u001b[?25hRequirement already satisfied: graphviz in /usr/local/lib/python3.7/dist-packages (from catboost) (0.10.1)\n",
            "Requirement already satisfied: matplotlib in /usr/local/lib/python3.7/dist-packages (from catboost) (3.2.2)\n",
            "Requirement already satisfied: scipy in /usr/local/lib/python3.7/dist-packages (from catboost) (1.7.3)\n",
            "Requirement already satisfied: six in /usr/local/lib/python3.7/dist-packages (from catboost) (1.15.0)\n",
            "Requirement already satisfied: plotly in /usr/local/lib/python3.7/dist-packages (from catboost) (5.5.0)\n",
            "Requirement already satisfied: numpy>=1.16.0 in /usr/local/lib/python3.7/dist-packages (from catboost) (1.21.6)\n",
            "Requirement already satisfied: pandas>=0.24.0 in /usr/local/lib/python3.7/dist-packages (from catboost) (1.3.5)\n",
            "Requirement already satisfied: pytz>=2017.3 in /usr/local/lib/python3.7/dist-packages (from pandas>=0.24.0->catboost) (2022.2.1)\n",
            "Requirement already satisfied: python-dateutil>=2.7.3 in /usr/local/lib/python3.7/dist-packages (from pandas>=0.24.0->catboost) (2.8.2)\n",
            "Requirement already satisfied: cycler>=0.10 in /usr/local/lib/python3.7/dist-packages (from matplotlib->catboost) (0.11.0)\n",
            "Requirement already satisfied: kiwisolver>=1.0.1 in /usr/local/lib/python3.7/dist-packages (from matplotlib->catboost) (1.4.4)\n",
            "Requirement already satisfied: pyparsing!=2.0.4,!=2.1.2,!=2.1.6,>=2.0.1 in /usr/local/lib/python3.7/dist-packages (from matplotlib->catboost) (3.0.9)\n",
            "Requirement already satisfied: typing-extensions in /usr/local/lib/python3.7/dist-packages (from kiwisolver>=1.0.1->matplotlib->catboost) (4.1.1)\n",
            "Requirement already satisfied: tenacity>=6.2.0 in /usr/local/lib/python3.7/dist-packages (from plotly->catboost) (8.0.1)\n",
            "Installing collected packages: catboost\n",
            "Successfully installed catboost-1.1\n"
          ]
        }
      ]
    },
    {
      "cell_type": "code",
      "source": [
        "clf_v = CatBoostClassifier(random_state=0,auto_class_weights='Balanced', cat_features=cat_cols, verbose = False)\n",
        "clf_v.fit(X_train, y_train_v)"
      ],
      "metadata": {
        "colab": {
          "base_uri": "https://localhost:8080/"
        },
        "id": "9fTV9Jw2aL2o",
        "outputId": "fef622c3-fd03-496a-9a43-f2a7ad465362"
      },
      "execution_count": 37,
      "outputs": [
        {
          "output_type": "execute_result",
          "data": {
            "text/plain": [
              "<catboost.core.CatBoostClassifier at 0x7f4f6d628b50>"
            ]
          },
          "metadata": {},
          "execution_count": 37
        }
      ]
    },
    {
      "cell_type": "code",
      "source": [
        "X_train.shape"
      ],
      "metadata": {
        "colab": {
          "base_uri": "https://localhost:8080/"
        },
        "id": "dWO1J0Fu4i6r",
        "outputId": "85405c4e-235f-46a8-b403-4b48a800111b"
      },
      "execution_count": 38,
      "outputs": [
        {
          "output_type": "execute_result",
          "data": {
            "text/plain": [
              "(3871, 15)"
            ]
          },
          "metadata": {},
          "execution_count": 38
        }
      ]
    },
    {
      "cell_type": "code",
      "source": [
        "y_train_v.shape"
      ],
      "metadata": {
        "colab": {
          "base_uri": "https://localhost:8080/"
        },
        "id": "ZLMNHwC04o3O",
        "outputId": "99eb35c9-2fa0-4ff9-acca-3b55231144f6"
      },
      "execution_count": 39,
      "outputs": [
        {
          "output_type": "execute_result",
          "data": {
            "text/plain": [
              "(3871,)"
            ]
          },
          "metadata": {},
          "execution_count": 39
        }
      ]
    },
    {
      "cell_type": "code",
      "source": [
        "X_train_v=X_train.copy()\n",
        "X_train_v.insert(15,\"Ценности предсказанные\",y_train_v)"
      ],
      "metadata": {
        "id": "ai2AaKc53_46"
      },
      "execution_count": 40,
      "outputs": []
    },
    {
      "cell_type": "code",
      "source": [
        "X_train_v.info()"
      ],
      "metadata": {
        "colab": {
          "base_uri": "https://localhost:8080/"
        },
        "id": "L0ji1iw094RQ",
        "outputId": "7d9dc91b-10c5-4054-bcbd-918c92991d26"
      },
      "execution_count": 41,
      "outputs": [
        {
          "output_type": "stream",
          "name": "stdout",
          "text": [
            "<class 'pandas.core.frame.DataFrame'>\n",
            "Int64Index: 3871 entries, 4641 to 860\n",
            "Data columns (total 16 columns):\n",
            " #   Column                                Non-Null Count  Dtype  \n",
            "---  ------                                --------------  -----  \n",
            " 0   Название книги                        3871 non-null   object \n",
            " 1   Автор                                 3871 non-null   object \n",
            " 2   Рейтинг                               3871 non-null   float64\n",
            " 3   Количество оценок                     3871 non-null   int64  \n",
            " 4   Количество отзывов                    3871 non-null   int64  \n",
            " 5   Оценка книги читателем (из 5 баллов)  3871 non-null   float64\n",
            " 6   Лайки на отзыв                        3871 non-null   int64  \n",
            " 7   Дислайки на отзыв                     3871 non-null   int64  \n",
            " 8   len_reviews                           3871 non-null   int64  \n",
            " 9   Соответствие коду                     3871 non-null   float32\n",
            " 10  Наличие ценности                      3871 non-null   float64\n",
            " 11  positive                              3871 non-null   float64\n",
            " 12  neutral                               3871 non-null   float64\n",
            " 13  negative                              3871 non-null   float64\n",
            " 14  skip                                  3871 non-null   float64\n",
            " 15  Ценности предсказанные                3871 non-null   int64  \n",
            "dtypes: float32(1), float64(7), int64(6), object(2)\n",
            "memory usage: 499.0+ KB\n"
          ]
        }
      ]
    },
    {
      "cell_type": "code",
      "source": [
        "clf_r = CatBoostClassifier(random_state=0,auto_class_weights='Balanced', cat_features=cat_cols, verbose = False)\n",
        "clf_r.fit(X_train_v, y_train_r)\n",
        "\n",
        "clf_tr = CatBoostClassifier(random_state=0,auto_class_weights='Balanced', cat_features=cat_cols, verbose = False)\n",
        "clf_tr.fit(X_train_v, y_train_tr)\n",
        "\n",
        "clf_tnr = CatBoostClassifier(random_state=0,auto_class_weights='Balanced', cat_features=cat_cols, verbose = False)\n",
        "clf_tnr.fit(X_train_v, y_train_tnr)\n",
        "\n",
        "clf_l = CatBoostClassifier(random_state=0,auto_class_weights='Balanced', cat_features=cat_cols, verbose = False)\n",
        "clf_l.fit(X_train_v, y_train_l)"
      ],
      "metadata": {
        "colab": {
          "base_uri": "https://localhost:8080/"
        },
        "id": "8JorwWRG-lv8",
        "outputId": "a35999d5-924a-42ef-db90-0b0ff527477f"
      },
      "execution_count": 42,
      "outputs": [
        {
          "output_type": "execute_result",
          "data": {
            "text/plain": [
              "<catboost.core.CatBoostClassifier at 0x7f4f78db6750>"
            ]
          },
          "metadata": {},
          "execution_count": 42
        }
      ]
    },
    {
      "cell_type": "markdown",
      "metadata": {
        "id": "vUPON7vxenEJ"
      },
      "source": [
        "## Оценка точности"
      ]
    },
    {
      "cell_type": "code",
      "source": [
        "X_test.info()"
      ],
      "metadata": {
        "colab": {
          "base_uri": "https://localhost:8080/"
        },
        "id": "fZG4jBB9ORmH",
        "outputId": "ed1032c7-70da-46f3-be37-0d0c94dd7a66"
      },
      "execution_count": 43,
      "outputs": [
        {
          "output_type": "stream",
          "name": "stdout",
          "text": [
            "<class 'pandas.core.frame.DataFrame'>\n",
            "Int64Index: 968 entries, 3199 to 180\n",
            "Data columns (total 15 columns):\n",
            " #   Column                                Non-Null Count  Dtype  \n",
            "---  ------                                --------------  -----  \n",
            " 0   Название книги                        968 non-null    object \n",
            " 1   Автор                                 968 non-null    object \n",
            " 2   Рейтинг                               968 non-null    float64\n",
            " 3   Количество оценок                     968 non-null    int64  \n",
            " 4   Количество отзывов                    968 non-null    int64  \n",
            " 5   Оценка книги читателем (из 5 баллов)  968 non-null    float64\n",
            " 6   Лайки на отзыв                        968 non-null    int64  \n",
            " 7   Дислайки на отзыв                     968 non-null    int64  \n",
            " 8   len_reviews                           968 non-null    int64  \n",
            " 9   Соответствие коду                     968 non-null    float32\n",
            " 10  Наличие ценности                      968 non-null    float64\n",
            " 11  positive                              968 non-null    float64\n",
            " 12  neutral                               968 non-null    float64\n",
            " 13  negative                              968 non-null    float64\n",
            " 14  skip                                  968 non-null    float64\n",
            "dtypes: float32(1), float64(7), int64(5), object(2)\n",
            "memory usage: 117.2+ KB\n"
          ]
        }
      ]
    },
    {
      "cell_type": "code",
      "execution_count": 44,
      "metadata": {
        "id": "m1g031fzexib"
      },
      "outputs": [],
      "source": [
        "#pred = clf.predict(X_test)\n",
        "pred_v = clf_v.predict(X_test)\n",
        "\n"
      ]
    },
    {
      "cell_type": "code",
      "source": [
        "X_test.shape"
      ],
      "metadata": {
        "colab": {
          "base_uri": "https://localhost:8080/"
        },
        "id": "Ya7C4r4h_XcG",
        "outputId": "c8103c7b-ffc8-45e8-f5f6-bdeb7d2d0146"
      },
      "execution_count": 45,
      "outputs": [
        {
          "output_type": "execute_result",
          "data": {
            "text/plain": [
              "(968, 15)"
            ]
          },
          "metadata": {},
          "execution_count": 45
        }
      ]
    },
    {
      "cell_type": "code",
      "source": [
        "pred_v.shape"
      ],
      "metadata": {
        "colab": {
          "base_uri": "https://localhost:8080/"
        },
        "id": "fbYbQ6Lz_d21",
        "outputId": "6db9c7d5-131e-400d-ba4e-86d7af3e774b"
      },
      "execution_count": 46,
      "outputs": [
        {
          "output_type": "execute_result",
          "data": {
            "text/plain": [
              "(968,)"
            ]
          },
          "metadata": {},
          "execution_count": 46
        }
      ]
    },
    {
      "cell_type": "code",
      "source": [
        "X_test_v=X_test.copy()\n",
        "X_test_v.insert(15,\"Ценности предсказанные\",pred_v)\n",
        "pred_r = clf_r.predict(X_test_v)\n",
        "pred_tr = clf_tr.predict(X_test_v)\n",
        "pred_tnr = clf_tnr.predict(X_test_v)\n",
        "pred_l = clf_l.predict(X_test_v)"
      ],
      "metadata": {
        "id": "NyUNbmnO-1eC"
      },
      "execution_count": 47,
      "outputs": []
    },
    {
      "cell_type": "code",
      "source": [
        "#pred[:,4]"
      ],
      "metadata": {
        "id": "bvlKAzcmfYmH"
      },
      "execution_count": 48,
      "outputs": []
    },
    {
      "cell_type": "code",
      "source": [
        "pred_v.shape"
      ],
      "metadata": {
        "colab": {
          "base_uri": "https://localhost:8080/"
        },
        "id": "XW34Lez_funG",
        "outputId": "28f38e93-211c-496b-f7c0-77dab883e754"
      },
      "execution_count": 49,
      "outputs": [
        {
          "output_type": "execute_result",
          "data": {
            "text/plain": [
              "(968,)"
            ]
          },
          "metadata": {},
          "execution_count": 49
        }
      ]
    },
    {
      "cell_type": "code",
      "source": [
        "#pred[:,4] = pred_v"
      ],
      "metadata": {
        "id": "uqB2-ys9a3Ra"
      },
      "execution_count": 50,
      "outputs": []
    },
    {
      "cell_type": "code",
      "source": [
        "#pred[:,0] = pred_r\n",
        "#pred[:,1] = pred_tr\n",
        "#pred[:,2] = pred_tnr\n",
        "#pred[:,3] = pred_l"
      ],
      "metadata": {
        "id": "71kzh_rn_2Eq"
      },
      "execution_count": 51,
      "outputs": []
    },
    {
      "cell_type": "code",
      "source": [
        "pred=np.array([pred_r,pred_tr,pred_tnr,pred_l,pred_v]).transpose()\n",
        "\n",
        "#columns = ['Артериальная гипертензия', 'ОНМК', 'Стенокардия, ИБС, инфаркт миокарда', 'Сердечная недостаточность' ,'Прочие заболевания сердца'] \n",
        "\n",
        "\n",
        "\n",
        "index = None "
      ],
      "metadata": {
        "id": "pGSL3UQE4Bqs"
      },
      "execution_count": 52,
      "outputs": []
    },
    {
      "cell_type": "code",
      "execution_count": 53,
      "metadata": {
        "id": "kBiihKwKe9AB",
        "colab": {
          "base_uri": "https://localhost:8080/",
          "height": 143
        },
        "outputId": "e56e9f36-f445-44c1-9e8e-266b8b6150c4"
      },
      "outputs": [
        {
          "output_type": "execute_result",
          "data": {
            "text/plain": [
              "      Релевантность  Таксономия релевантные  Таксономия не релевантные  \\\n",
              "3199              0                       0                          0   \n",
              "2527              0                       0                          1   \n",
              "4100              1                       1                          0   \n",
              "\n",
              "      Длина отзыва  Ценности  \n",
              "3199             0         1  \n",
              "2527             0         0  \n",
              "4100             0         1  "
            ],
            "text/html": [
              "\n",
              "  <div id=\"df-3e09b4f5-9228-4f32-9d9d-2254bb7dbf5b\">\n",
              "    <div class=\"colab-df-container\">\n",
              "      <div>\n",
              "<style scoped>\n",
              "    .dataframe tbody tr th:only-of-type {\n",
              "        vertical-align: middle;\n",
              "    }\n",
              "\n",
              "    .dataframe tbody tr th {\n",
              "        vertical-align: top;\n",
              "    }\n",
              "\n",
              "    .dataframe thead th {\n",
              "        text-align: right;\n",
              "    }\n",
              "</style>\n",
              "<table border=\"1\" class=\"dataframe\">\n",
              "  <thead>\n",
              "    <tr style=\"text-align: right;\">\n",
              "      <th></th>\n",
              "      <th>Релевантность</th>\n",
              "      <th>Таксономия релевантные</th>\n",
              "      <th>Таксономия не релевантные</th>\n",
              "      <th>Длина отзыва</th>\n",
              "      <th>Ценности</th>\n",
              "    </tr>\n",
              "  </thead>\n",
              "  <tbody>\n",
              "    <tr>\n",
              "      <th>3199</th>\n",
              "      <td>0</td>\n",
              "      <td>0</td>\n",
              "      <td>0</td>\n",
              "      <td>0</td>\n",
              "      <td>1</td>\n",
              "    </tr>\n",
              "    <tr>\n",
              "      <th>2527</th>\n",
              "      <td>0</td>\n",
              "      <td>0</td>\n",
              "      <td>1</td>\n",
              "      <td>0</td>\n",
              "      <td>0</td>\n",
              "    </tr>\n",
              "    <tr>\n",
              "      <th>4100</th>\n",
              "      <td>1</td>\n",
              "      <td>1</td>\n",
              "      <td>0</td>\n",
              "      <td>0</td>\n",
              "      <td>1</td>\n",
              "    </tr>\n",
              "  </tbody>\n",
              "</table>\n",
              "</div>\n",
              "      <button class=\"colab-df-convert\" onclick=\"convertToInteractive('df-3e09b4f5-9228-4f32-9d9d-2254bb7dbf5b')\"\n",
              "              title=\"Convert this dataframe to an interactive table.\"\n",
              "              style=\"display:none;\">\n",
              "        \n",
              "  <svg xmlns=\"http://www.w3.org/2000/svg\" height=\"24px\"viewBox=\"0 0 24 24\"\n",
              "       width=\"24px\">\n",
              "    <path d=\"M0 0h24v24H0V0z\" fill=\"none\"/>\n",
              "    <path d=\"M18.56 5.44l.94 2.06.94-2.06 2.06-.94-2.06-.94-.94-2.06-.94 2.06-2.06.94zm-11 1L8.5 8.5l.94-2.06 2.06-.94-2.06-.94L8.5 2.5l-.94 2.06-2.06.94zm10 10l.94 2.06.94-2.06 2.06-.94-2.06-.94-.94-2.06-.94 2.06-2.06.94z\"/><path d=\"M17.41 7.96l-1.37-1.37c-.4-.4-.92-.59-1.43-.59-.52 0-1.04.2-1.43.59L10.3 9.45l-7.72 7.72c-.78.78-.78 2.05 0 2.83L4 21.41c.39.39.9.59 1.41.59.51 0 1.02-.2 1.41-.59l7.78-7.78 2.81-2.81c.8-.78.8-2.07 0-2.86zM5.41 20L4 18.59l7.72-7.72 1.47 1.35L5.41 20z\"/>\n",
              "  </svg>\n",
              "      </button>\n",
              "      \n",
              "  <style>\n",
              "    .colab-df-container {\n",
              "      display:flex;\n",
              "      flex-wrap:wrap;\n",
              "      gap: 12px;\n",
              "    }\n",
              "\n",
              "    .colab-df-convert {\n",
              "      background-color: #E8F0FE;\n",
              "      border: none;\n",
              "      border-radius: 50%;\n",
              "      cursor: pointer;\n",
              "      display: none;\n",
              "      fill: #1967D2;\n",
              "      height: 32px;\n",
              "      padding: 0 0 0 0;\n",
              "      width: 32px;\n",
              "    }\n",
              "\n",
              "    .colab-df-convert:hover {\n",
              "      background-color: #E2EBFA;\n",
              "      box-shadow: 0px 1px 2px rgba(60, 64, 67, 0.3), 0px 1px 3px 1px rgba(60, 64, 67, 0.15);\n",
              "      fill: #174EA6;\n",
              "    }\n",
              "\n",
              "    [theme=dark] .colab-df-convert {\n",
              "      background-color: #3B4455;\n",
              "      fill: #D2E3FC;\n",
              "    }\n",
              "\n",
              "    [theme=dark] .colab-df-convert:hover {\n",
              "      background-color: #434B5C;\n",
              "      box-shadow: 0px 1px 3px 1px rgba(0, 0, 0, 0.15);\n",
              "      filter: drop-shadow(0px 1px 2px rgba(0, 0, 0, 0.3));\n",
              "      fill: #FFFFFF;\n",
              "    }\n",
              "  </style>\n",
              "\n",
              "      <script>\n",
              "        const buttonEl =\n",
              "          document.querySelector('#df-3e09b4f5-9228-4f32-9d9d-2254bb7dbf5b button.colab-df-convert');\n",
              "        buttonEl.style.display =\n",
              "          google.colab.kernel.accessAllowed ? 'block' : 'none';\n",
              "\n",
              "        async function convertToInteractive(key) {\n",
              "          const element = document.querySelector('#df-3e09b4f5-9228-4f32-9d9d-2254bb7dbf5b');\n",
              "          const dataTable =\n",
              "            await google.colab.kernel.invokeFunction('convertToInteractive',\n",
              "                                                     [key], {});\n",
              "          if (!dataTable) return;\n",
              "\n",
              "          const docLinkHtml = 'Like what you see? Visit the ' +\n",
              "            '<a target=\"_blank\" href=https://colab.research.google.com/notebooks/data_table.ipynb>data table notebook</a>'\n",
              "            + ' to learn more about interactive tables.';\n",
              "          element.innerHTML = '';\n",
              "          dataTable['output_type'] = 'display_data';\n",
              "          await google.colab.output.renderOutput(dataTable, element);\n",
              "          const docLink = document.createElement('div');\n",
              "          docLink.innerHTML = docLinkHtml;\n",
              "          element.appendChild(docLink);\n",
              "        }\n",
              "      </script>\n",
              "    </div>\n",
              "  </div>\n",
              "  "
            ]
          },
          "metadata": {},
          "execution_count": 53
        }
      ],
      "source": [
        "y_test.head(3)"
      ]
    },
    {
      "cell_type": "code",
      "source": [
        "#y_test_v = y_test['Ценности']"
      ],
      "metadata": {
        "id": "aUo4n_2iZrsy"
      },
      "execution_count": 54,
      "outputs": []
    },
    {
      "cell_type": "code",
      "execution_count": 55,
      "metadata": {
        "id": "OaySnwRzejpc",
        "colab": {
          "base_uri": "https://localhost:8080/"
        },
        "outputId": "6d6ae493-7808-4c02-8416-bb55d1faf775"
      },
      "outputs": [
        {
          "output_type": "stream",
          "name": "stdout",
          "text": [
            "Recall score: 0.6454979173329678\n"
          ]
        }
      ],
      "source": [
        "from sklearn.metrics import recall_score\n",
        "\n",
        "print(\"Recall score:\", recall_score(y_test, pred, average='macro'))"
      ]
    },
    {
      "cell_type": "markdown",
      "source": [],
      "metadata": {
        "id": "BUcmqPVQicoW"
      }
    },
    {
      "cell_type": "markdown",
      "source": [
        "## Повторное обучение на полном датасете"
      ],
      "metadata": {
        "id": "h4lwxTspie9K"
      }
    },
    {
      "cell_type": "code",
      "source": [
        "from sklearn.model_selection import GridSearchCV\n",
        "parameters_v={'depth':[5,6,7,10]}\n",
        "parameters={'depth':[5,6,7,10]}"
      ],
      "metadata": {
        "id": "4k7CsRJcqLAG"
      },
      "execution_count": 56,
      "outputs": []
    },
    {
      "cell_type": "code",
      "source": [
        "def model_fit(model,X,Y,param,targetname):\n",
        "\n",
        "  cv = GridSearchCV(model, param_grid=param, n_jobs=-1, scoring='recall', return_train_score=True)\n",
        "  cv.fit(X, Y, cat_features=cat_cols)\n",
        "\n",
        "  best_model = cv.best_estimator_\n",
        "  print(cv.best_params_)\n",
        "\n",
        "  print(cv.best_score_)\n",
        "\n",
        "  #for key in cv.cv_results_.keys():\n",
        "  #  print(key,cv.cv_results_[key][cv.best_index_])\n",
        "\n",
        "  cv_imp = pd.Series(best_model.get_feature_importance(),X.columns)\n",
        "  fig, ax = plt.subplots(figsize=(16,14))\n",
        "  cv_imp.plot.bar(ax=ax)\n",
        "  ax.set_title(\"Важность признаков для \"+targetname)\n",
        "  ax.set_ylabel('Важность, %')\n",
        "  fig.tight_layout()\n",
        "\n",
        "  return cv"
      ],
      "metadata": {
        "id": "ltJequm5pZKS"
      },
      "execution_count": 57,
      "outputs": []
    },
    {
      "cell_type": "code",
      "source": [
        "X.info()"
      ],
      "metadata": {
        "colab": {
          "base_uri": "https://localhost:8080/"
        },
        "id": "DeKmL6po47xb",
        "outputId": "47cada32-eae3-4558-a8bc-8690f83b6318"
      },
      "execution_count": 58,
      "outputs": [
        {
          "output_type": "stream",
          "name": "stdout",
          "text": [
            "<class 'pandas.core.frame.DataFrame'>\n",
            "Int64Index: 4839 entries, 0 to 4838\n",
            "Data columns (total 15 columns):\n",
            " #   Column                                Non-Null Count  Dtype  \n",
            "---  ------                                --------------  -----  \n",
            " 0   Название книги                        4839 non-null   object \n",
            " 1   Автор                                 4839 non-null   object \n",
            " 2   Рейтинг                               4839 non-null   float64\n",
            " 3   Количество оценок                     4839 non-null   int64  \n",
            " 4   Количество отзывов                    4839 non-null   int64  \n",
            " 5   Оценка книги читателем (из 5 баллов)  4839 non-null   float64\n",
            " 6   Лайки на отзыв                        4839 non-null   int64  \n",
            " 7   Дислайки на отзыв                     4839 non-null   int64  \n",
            " 8   len_reviews                           4839 non-null   int64  \n",
            " 9   Соответствие коду                     4839 non-null   float32\n",
            " 10  Наличие ценности                      4839 non-null   float64\n",
            " 11  positive                              4839 non-null   float64\n",
            " 12  neutral                               4839 non-null   float64\n",
            " 13  negative                              4839 non-null   float64\n",
            " 14  skip                                  4839 non-null   float64\n",
            "dtypes: float32(1), float64(7), int64(5), object(2)\n",
            "memory usage: 715.0+ KB\n"
          ]
        }
      ]
    },
    {
      "cell_type": "code",
      "source": [
        "X_train = X\n",
        "y_train = y\n",
        "\n",
        "y_train_v = y_train['Ценности']\n",
        "\n",
        "y_train_r = y_train['Релевантность']\n",
        "y_train_tr = y_train['Таксономия релевантные']\n",
        "y_train_tnr = y_train['Таксономия не релевантные']\n",
        "y_train_l = y_train['Длина отзыва']\n",
        "\n",
        "clf_v = CatBoostClassifier(random_state=0,auto_class_weights='Balanced', cat_features=cat_cols, boosting_type='Ordered', verbose = False ,ignored_features=[0,1,2,3,4,5,6,7,8,11,12,13,14]) #,ignored_features=[0,2,3,4,5,6,7,11,12,13,14],ignored_features=[1,2,3,4,5,6,7,11,12,13,14]\n",
        "cv_v=model_fit(clf_v, X_train, y_train_v , parameters_v, 'Ценности')\n",
        "\n",
        "X_train_v=X_train.copy()\n",
        "X_train_v.insert(15,\"Ценности предсказанные\",y_train_v)\n",
        "\n",
        "clf_r = CatBoostClassifier(random_state=0,auto_class_weights='Balanced', cat_features=cat_cols, boosting_type='Ordered', verbose = False,ignored_features=[0,1,2,3,4,5,6,7,8,11,12,13,14,15])  #,ignored_features=[0]\n",
        "cv_r = model_fit(clf_r, X_train_v, y_train_r , parameters, 'Релевантность')\n",
        "\n",
        "X_train_r=X_train_v.copy()\n",
        "X_train_r.insert(16,\"Релевантность предсказанная\",y_train_r)\n",
        "\n",
        "clf_tr = CatBoostClassifier(random_state=0,auto_class_weights='Balanced', cat_features=cat_cols, boosting_type='Ordered', verbose = False,ignored_features=[2,3,4,5,6,7,8,11,13,14,15]) # ,ignored_features=[0]\n",
        "cv_tr = model_fit(clf_tr, X_train_r, y_train_tr , parameters, 'Таксономия релевантные')\n",
        "\n",
        "clf_tnr = CatBoostClassifier(random_state=0,auto_class_weights='Balanced', cat_features=cat_cols, boosting_type='Ordered', verbose = False ,ignored_features=[2,3,4,5,6,7,10,11,12,15,16]) # ,ignored_features=[0,2,3,4,5,6,7,13,14]\n",
        "cv_tnr=model_fit(clf_tnr, X_train_r, y_train_tnr , parameters, 'Таксономия не релевантные')\n",
        "\n",
        "clf_l = CatBoostClassifier(random_state=0,auto_class_weights='Balanced', cat_features=cat_cols, boosting_type='Ordered', verbose = False ,ignored_features=[0,1,2,3,4,5,7,10,11,12,13,14,15,16]) # ,ignored_features=[0] ,ignored_features=[0,2,3,4,5,6,7,11,13,14]\n",
        "cv_l = model_fit(clf_l, X_train_r, y_train_l , parameters,'Длина отзыва')"
      ],
      "metadata": {
        "colab": {
          "base_uri": "https://localhost:8080/",
          "height": 1000
        },
        "id": "t0I7WDKQibyu",
        "outputId": "ad0f592a-35a8-4a1d-b4e4-bf685d743295"
      },
      "execution_count": 59,
      "outputs": [
        {
          "output_type": "stream",
          "name": "stdout",
          "text": [
            "{'depth': 5}\n",
            "0.719803707742639\n",
            "{'depth': 6}\n",
            "0.7079406241616739\n",
            "{'depth': 6}\n",
            "0.6881801889866406\n",
            "{'depth': 10}\n",
            "0.667786218845795\n",
            "{'depth': 5}\n",
            "0.769367802766829\n"
          ]
        },
        {
          "output_type": "display_data",
          "data": {
            "text/plain": [
              "<Figure size 1152x1008 with 1 Axes>"
            ],
            "image/png": "[encoded data removed]"
          },
          "metadata": {
            "needs_background": "light"
          }
        },
        {
          "output_type": "display_data",
          "data": {
            "text/plain": [
              "<Figure size 1152x1008 with 1 Axes>"
            ],
            "image/png": "[encoded data removed]"
          },
          "metadata": {
            "needs_background": "light"
          }
        },
        {
          "output_type": "display_data",
          "data": {
            "text/plain": [
              "<Figure size 1152x1008 with 1 Axes>"
            ],
            "image/png": "[encoded data removed]"
          },
          "metadata": {
            "needs_background": "light"
          }
        },
        {
          "output_type": "display_data",
          "data": {
            "text/plain": [
              "<Figure size 1152x1008 with 1 Axes>"
            ],
            "image/png": "[encoded data removed]"
          },
          "metadata": {
            "needs_background": "light"
          }
        },
        {
          "output_type": "display_data",
          "data": {
            "text/plain": [
              "<Figure size 1152x1008 with 1 Axes>"
            ],
            "image/png": "[encoded data removed]"
          },
          "metadata": {
            "needs_background": "light"
          }
        }
      ]
    },
    {
      "cell_type": "code",
      "source": [
        "X_train_r.info()"
      ],
      "metadata": {
        "colab": {
          "base_uri": "https://localhost:8080/"
        },
        "id": "khmxmGi57PmO",
        "outputId": "39720fb0-58e7-4f2e-fccd-60f10d88f421"
      },
      "execution_count": 60,
      "outputs": [
        {
          "output_type": "stream",
          "name": "stdout",
          "text": [
            "<class 'pandas.core.frame.DataFrame'>\n",
            "Int64Index: 4839 entries, 0 to 4838\n",
            "Data columns (total 17 columns):\n",
            " #   Column                                Non-Null Count  Dtype  \n",
            "---  ------                                --------------  -----  \n",
            " 0   Название книги                        4839 non-null   object \n",
            " 1   Автор                                 4839 non-null   object \n",
            " 2   Рейтинг                               4839 non-null   float64\n",
            " 3   Количество оценок                     4839 non-null   int64  \n",
            " 4   Количество отзывов                    4839 non-null   int64  \n",
            " 5   Оценка книги читателем (из 5 баллов)  4839 non-null   float64\n",
            " 6   Лайки на отзыв                        4839 non-null   int64  \n",
            " 7   Дислайки на отзыв                     4839 non-null   int64  \n",
            " 8   len_reviews                           4839 non-null   int64  \n",
            " 9   Соответствие коду                     4839 non-null   float32\n",
            " 10  Наличие ценности                      4839 non-null   float64\n",
            " 11  positive                              4839 non-null   float64\n",
            " 12  neutral                               4839 non-null   float64\n",
            " 13  negative                              4839 non-null   float64\n",
            " 14  skip                                  4839 non-null   float64\n",
            " 15  Ценности предсказанные                4839 non-null   int64  \n",
            " 16  Релевантность предсказанная           4839 non-null   int64  \n",
            "dtypes: float32(1), float64(7), int64(7), object(2)\n",
            "memory usage: 790.6+ KB\n"
          ]
        }
      ]
    },
    {
      "cell_type": "code",
      "source": [
        "print('Ценности')\n",
        "print(cv_v.best_params_)\n",
        "print(cv_v.best_score_)\n",
        "print('Релевантность')\n",
        "print(cv_r.best_params_)\n",
        "print(cv_r.best_score_)\n",
        "print('Таксономия релевантные')\n",
        "print(cv_tr.best_params_)\n",
        "print(cv_tr.best_score_)\n",
        "print('Таксономия нерелевантные')\n",
        "print(cv_tnr.best_params_)\n",
        "print(cv_tnr.best_score_)\n",
        "print('Длина отзыва')\n",
        "print(cv_l.best_params_)\n",
        "print( cv_l.best_score_)"
      ],
      "metadata": {
        "colab": {
          "base_uri": "https://localhost:8080/"
        },
        "id": "H36QaYJasGW5",
        "outputId": "66e59dbc-c3d5-4b20-fe59-6b0622f572b5"
      },
      "execution_count": 61,
      "outputs": [
        {
          "output_type": "stream",
          "name": "stdout",
          "text": [
            "Ценности\n",
            "{'depth': 5}\n",
            "0.719803707742639\n",
            "Релевантность\n",
            "{'depth': 6}\n",
            "0.7079406241616739\n",
            "Таксономия релевантные\n",
            "{'depth': 6}\n",
            "0.6881801889866406\n",
            "Таксономия нерелевантные\n",
            "{'depth': 10}\n",
            "0.667786218845795\n",
            "Длина отзыва\n",
            "{'depth': 5}\n",
            "0.769367802766829\n"
          ]
        }
      ]
    },
    {
      "cell_type": "markdown",
      "source": [
        "## Получение сабмита"
      ],
      "metadata": {
        "id": "GdUn4UkIiT0r"
      }
    },
    {
      "cell_type": "code",
      "execution_count": 62,
      "metadata": {
        "id": "SJw5Si4gnHwZ"
      },
      "outputs": [],
      "source": [
        "#df_test[\"len_reviews\"] = df_test[\"Отзыв\"].map(len)\n",
        "\n",
        "#df_test[\"Автор\"] = pd.Categorical(df_test[\"Автор\"])\n",
        "#df_test[\"Автор\"].astype('category').cat.codes\n",
        "#df_test[\"Автор\"] = df_test[\"Автор\"].cat.codes\n",
        "\n",
        "#df_test[\"Соответствие коду\"] = df_test[\"Отзыв\"].apply(get_culturalcode)\n",
        "#df_test[\"Наличие ценности\"] = df_test[\"Отзыв\"].apply(get_value)\n",
        "\n",
        "#df_test.fillna(0)\n",
        "\n",
        "df_test = add_features(df_test)"
      ]
    },
    {
      "cell_type": "code",
      "source": [
        "# Проводим анализ тональности \n",
        "rez=[]\n",
        "\n",
        "for index, rows  in tqdm(df_test.iterrows()):\n",
        "    \n",
        "        messages=[]\n",
        "        messages.append(rows['Отзыв'])\n",
        "        results = model.predict(messages, k=2)\n",
        "        for message, sentiment in zip(messages, results):\n",
        "            # сразу выводим результат\n",
        "            neutral = 0\n",
        "            positive=0\n",
        "            negative=0\n",
        "            skip=0\n",
        "            if 'neutral' in sentiment:\n",
        "                neutral = sentiment['neutral']\n",
        "            if 'positive' in sentiment:\n",
        "                positive = sentiment['positive']\n",
        "            if 'negative' in sentiment:\n",
        "                negative = sentiment['negative']\n",
        "            if 'skip' in sentiment:\n",
        "                skip = sentiment['skip']\n",
        "            rez.append([rows['RecordNo'], positive, neutral, negative, skip])\n",
        "            #print (sentiment)\n",
        "\n",
        "df_test_dostoevsky = pd.DataFrame(rez ,columns=['RecordNo', 'positive', 'neutral', 'negative','skip'])  \n",
        "\n",
        "df_test = df_test.merge(df_test_dostoevsky, on='RecordNo',  how='left' )"
      ],
      "metadata": {
        "colab": {
          "base_uri": "https://localhost:8080/"
        },
        "id": "NSjL77S3iS2G",
        "outputId": "351de58e-43f6-4afb-cd23-350753bbf13b"
      },
      "execution_count": 63,
      "outputs": [
        {
          "output_type": "stream",
          "name": "stderr",
          "text": [
            "2075it [00:01, 1083.70it/s]\n"
          ]
        }
      ]
    },
    {
      "cell_type": "code",
      "source": [
        "df_test.info()"
      ],
      "metadata": {
        "colab": {
          "base_uri": "https://localhost:8080/"
        },
        "id": "_fUHq3mL7nzg",
        "outputId": "bf9c47fb-de99-4d1c-c7fa-c110926bfb1c"
      },
      "execution_count": 64,
      "outputs": [
        {
          "output_type": "stream",
          "name": "stdout",
          "text": [
            "<class 'pandas.core.frame.DataFrame'>\n",
            "Int64Index: 2075 entries, 0 to 2074\n",
            "Data columns (total 19 columns):\n",
            " #   Column                                Non-Null Count  Dtype  \n",
            "---  ------                                --------------  -----  \n",
            " 0   RecordNo                              2075 non-null   int64  \n",
            " 1   Название книги                        2075 non-null   object \n",
            " 2   Автор                                 2075 non-null   object \n",
            " 3   Ссылка на литрес                      2075 non-null   object \n",
            " 4   Рейтинг                               2075 non-null   float64\n",
            " 5   Количество оценок                     2075 non-null   int64  \n",
            " 6   Количество отзывов                    2075 non-null   int64  \n",
            " 7   Имя читателя                          2075 non-null   object \n",
            " 8   Оценка книги читателем (из 5 баллов)  2075 non-null   float64\n",
            " 9   Отзыв                                 2075 non-null   object \n",
            " 10  Лайки на отзыв                        2075 non-null   int64  \n",
            " 11  Дислайки на отзыв                     2075 non-null   int64  \n",
            " 12  len_reviews                           2075 non-null   int64  \n",
            " 13  Соответствие коду                     2075 non-null   float32\n",
            " 14  Наличие ценности                      2075 non-null   float64\n",
            " 15  positive                              2075 non-null   float64\n",
            " 16  neutral                               2075 non-null   float64\n",
            " 17  negative                              2075 non-null   float64\n",
            " 18  skip                                  2075 non-null   float64\n",
            "dtypes: float32(1), float64(7), int64(6), object(5)\n",
            "memory usage: 316.1+ KB\n"
          ]
        }
      ]
    },
    {
      "cell_type": "code",
      "execution_count": 65,
      "metadata": {
        "id": "rIZd6vjo5nIn",
        "colab": {
          "base_uri": "https://localhost:8080/"
        },
        "outputId": "0b824b22-ed02-4563-b06f-1aca9a5ef0e9"
      },
      "outputs": [
        {
          "output_type": "stream",
          "name": "stdout",
          "text": [
            "<class 'pandas.core.frame.DataFrame'>\n",
            "Int64Index: 2075 entries, 0 to 2074\n",
            "Data columns (total 19 columns):\n",
            " #   Column                                Non-Null Count  Dtype  \n",
            "---  ------                                --------------  -----  \n",
            " 0   RecordNo                              2075 non-null   int64  \n",
            " 1   Название книги                        2075 non-null   object \n",
            " 2   Автор                                 2075 non-null   object \n",
            " 3   Ссылка на литрес                      2075 non-null   object \n",
            " 4   Рейтинг                               2075 non-null   float64\n",
            " 5   Количество оценок                     2075 non-null   int64  \n",
            " 6   Количество отзывов                    2075 non-null   int64  \n",
            " 7   Имя читателя                          2075 non-null   object \n",
            " 8   Оценка книги читателем (из 5 баллов)  2075 non-null   float64\n",
            " 9   Отзыв                                 2075 non-null   object \n",
            " 10  Лайки на отзыв                        2075 non-null   int64  \n",
            " 11  Дислайки на отзыв                     2075 non-null   int64  \n",
            " 12  len_reviews                           2075 non-null   int64  \n",
            " 13  Соответствие коду                     2075 non-null   float32\n",
            " 14  Наличие ценности                      2075 non-null   float64\n",
            " 15  positive                              2075 non-null   float64\n",
            " 16  neutral                               2075 non-null   float64\n",
            " 17  negative                              2075 non-null   float64\n",
            " 18  skip                                  2075 non-null   float64\n",
            "dtypes: float32(1), float64(7), int64(6), object(5)\n",
            "memory usage: 316.1+ KB\n"
          ]
        }
      ],
      "source": [
        "df_test.info()"
      ]
    },
    {
      "cell_type": "code",
      "execution_count": 66,
      "metadata": {
        "id": "BusBICdC5ma6",
        "colab": {
          "base_uri": "https://localhost:8080/",
          "height": 852
        },
        "outputId": "7aec9474-6ba1-40a3-d856-b79f2f0c5e03"
      },
      "outputs": [
        {
          "output_type": "execute_result",
          "data": {
            "text/plain": [
              "                   Название книги               Автор  Рейтинг  \\\n",
              "0                        Дети мои        Гузель Яхина      4.4   \n",
              "1                           Текст  Дмитрий Глуховский      4.5   \n",
              "2                           Текст  Дмитрий Глуховский      4.4   \n",
              "3         Зулейха открывает глаза        Гузель Яхина      4.6   \n",
              "4         Зулейха открывает глаза        Гузель Яхина      4.6   \n",
              "...                           ...                 ...      ...   \n",
              "2070      Зулейха открывает глаза        Гузель Яхина      4.6   \n",
              "2071                     Дети мои        Гузель Яхина      4.4   \n",
              "2072      Зулейха открывает глаза        Гузель Яхина      4.6   \n",
              "2073      С неба упали три яблока      Наринэ Абгарян      4.8   \n",
              "2074  Лев Толстой: Бегство из рая     Павел Басинский      4.4   \n",
              "\n",
              "      Количество оценок  Количество отзывов  \\\n",
              "0                  8032                 702   \n",
              "1                  1923                 246   \n",
              "2                  7276                 622   \n",
              "3                 24719                2103   \n",
              "4                 24719                2103   \n",
              "...                 ...                 ...   \n",
              "2070              24719                2103   \n",
              "2071               8032                 702   \n",
              "2072              24719                2103   \n",
              "2073               1455                 189   \n",
              "2074                151                  24   \n",
              "\n",
              "      Оценка книги читателем (из 5 баллов)  Лайки на отзыв  Дислайки на отзыв  \\\n",
              "0                                      5.0               2                  0   \n",
              "1                                      5.0               1                  0   \n",
              "2                                      5.0               0                  0   \n",
              "3                                      0.0               4                  0   \n",
              "4                                      0.0               0                  1   \n",
              "...                                    ...             ...                ...   \n",
              "2070                                   5.0               0                  1   \n",
              "2071                                   4.0               0                  0   \n",
              "2072                                   5.0               0                  1   \n",
              "2073                                   5.0               0                  0   \n",
              "2074                                   5.0               0                  0   \n",
              "\n",
              "      len_reviews  Соответствие коду  Наличие ценности  positive   neutral  \\\n",
              "0             181           0.578474          0.837881  0.187143  0.384922   \n",
              "1             219           0.445461          0.450798  0.407343  0.262852   \n",
              "2             390           0.460698          0.674867  0.000000  0.476590   \n",
              "3             280           0.429618          0.442658  0.000000  0.592677   \n",
              "4             136           0.446628          0.646124  0.562187  0.000000   \n",
              "...           ...                ...               ...       ...       ...   \n",
              "2070          243           0.441433          0.620840  0.222710  0.256842   \n",
              "2071          186           0.355844          0.395649  0.281416  0.000000   \n",
              "2072          324           0.602169          0.701527  0.228166  0.182436   \n",
              "2073          217           0.586561          0.485680  0.228166  0.233716   \n",
              "2074          230           0.559792          0.839078  0.000000  0.629785   \n",
              "\n",
              "      negative  skip  \n",
              "0     0.000000   0.0  \n",
              "1     0.000000   0.0  \n",
              "2     0.307368   0.0  \n",
              "3     0.217348   0.0  \n",
              "4     0.112805   0.0  \n",
              "...        ...   ...  \n",
              "2070  0.000000   0.0  \n",
              "2071  0.201823   0.0  \n",
              "2072  0.000000   0.0  \n",
              "2073  0.000000   0.0  \n",
              "2074  0.245095   0.0  \n",
              "\n",
              "[2075 rows x 15 columns]"
            ],
            "text/html": [
              "\n",
              "  <div id=\"df-98144fce-357d-4148-bcfc-b52fa5002164\">\n",
              "    <div class=\"colab-df-container\">\n",
              "      <div>\n",
              "<style scoped>\n",
              "    .dataframe tbody tr th:only-of-type {\n",
              "        vertical-align: middle;\n",
              "    }\n",
              "\n",
              "    .dataframe tbody tr th {\n",
              "        vertical-align: top;\n",
              "    }\n",
              "\n",
              "    .dataframe thead th {\n",
              "        text-align: right;\n",
              "    }\n",
              "</style>\n",
              "<table border=\"1\" class=\"dataframe\">\n",
              "  <thead>\n",
              "    <tr style=\"text-align: right;\">\n",
              "      <th></th>\n",
              "      <th>Название книги</th>\n",
              "      <th>Автор</th>\n",
              "      <th>Рейтинг</th>\n",
              "      <th>Количество оценок</th>\n",
              "      <th>Количество отзывов</th>\n",
              "      <th>Оценка книги читателем (из 5 баллов)</th>\n",
              "      <th>Лайки на отзыв</th>\n",
              "      <th>Дислайки на отзыв</th>\n",
              "      <th>len_reviews</th>\n",
              "      <th>Соответствие коду</th>\n",
              "      <th>Наличие ценности</th>\n",
              "      <th>positive</th>\n",
              "      <th>neutral</th>\n",
              "      <th>negative</th>\n",
              "      <th>skip</th>\n",
              "    </tr>\n",
              "  </thead>\n",
              "  <tbody>\n",
              "    <tr>\n",
              "      <th>0</th>\n",
              "      <td>Дети мои</td>\n",
              "      <td>Гузель Яхина</td>\n",
              "      <td>4.4</td>\n",
              "      <td>8032</td>\n",
              "      <td>702</td>\n",
              "      <td>5.0</td>\n",
              "      <td>2</td>\n",
              "      <td>0</td>\n",
              "      <td>181</td>\n",
              "      <td>0.578474</td>\n",
              "      <td>0.837881</td>\n",
              "      <td>0.187143</td>\n",
              "      <td>0.384922</td>\n",
              "      <td>0.000000</td>\n",
              "      <td>0.0</td>\n",
              "    </tr>\n",
              "    <tr>\n",
              "      <th>1</th>\n",
              "      <td>Текст</td>\n",
              "      <td>Дмитрий Глуховский</td>\n",
              "      <td>4.5</td>\n",
              "      <td>1923</td>\n",
              "      <td>246</td>\n",
              "      <td>5.0</td>\n",
              "      <td>1</td>\n",
              "      <td>0</td>\n",
              "      <td>219</td>\n",
              "      <td>0.445461</td>\n",
              "      <td>0.450798</td>\n",
              "      <td>0.407343</td>\n",
              "      <td>0.262852</td>\n",
              "      <td>0.000000</td>\n",
              "      <td>0.0</td>\n",
              "    </tr>\n",
              "    <tr>\n",
              "      <th>2</th>\n",
              "      <td>Текст</td>\n",
              "      <td>Дмитрий Глуховский</td>\n",
              "      <td>4.4</td>\n",
              "      <td>7276</td>\n",
              "      <td>622</td>\n",
              "      <td>5.0</td>\n",
              "      <td>0</td>\n",
              "      <td>0</td>\n",
              "      <td>390</td>\n",
              "      <td>0.460698</td>\n",
              "      <td>0.674867</td>\n",
              "      <td>0.000000</td>\n",
              "      <td>0.476590</td>\n",
              "      <td>0.307368</td>\n",
              "      <td>0.0</td>\n",
              "    </tr>\n",
              "    <tr>\n",
              "      <th>3</th>\n",
              "      <td>Зулейха открывает глаза</td>\n",
              "      <td>Гузель Яхина</td>\n",
              "      <td>4.6</td>\n",
              "      <td>24719</td>\n",
              "      <td>2103</td>\n",
              "      <td>0.0</td>\n",
              "      <td>4</td>\n",
              "      <td>0</td>\n",
              "      <td>280</td>\n",
              "      <td>0.429618</td>\n",
              "      <td>0.442658</td>\n",
              "      <td>0.000000</td>\n",
              "      <td>0.592677</td>\n",
              "      <td>0.217348</td>\n",
              "      <td>0.0</td>\n",
              "    </tr>\n",
              "    <tr>\n",
              "      <th>4</th>\n",
              "      <td>Зулейха открывает глаза</td>\n",
              "      <td>Гузель Яхина</td>\n",
              "      <td>4.6</td>\n",
              "      <td>24719</td>\n",
              "      <td>2103</td>\n",
              "      <td>0.0</td>\n",
              "      <td>0</td>\n",
              "      <td>1</td>\n",
              "      <td>136</td>\n",
              "      <td>0.446628</td>\n",
              "      <td>0.646124</td>\n",
              "      <td>0.562187</td>\n",
              "      <td>0.000000</td>\n",
              "      <td>0.112805</td>\n",
              "      <td>0.0</td>\n",
              "    </tr>\n",
              "    <tr>\n",
              "      <th>...</th>\n",
              "      <td>...</td>\n",
              "      <td>...</td>\n",
              "      <td>...</td>\n",
              "      <td>...</td>\n",
              "      <td>...</td>\n",
              "      <td>...</td>\n",
              "      <td>...</td>\n",
              "      <td>...</td>\n",
              "      <td>...</td>\n",
              "      <td>...</td>\n",
              "      <td>...</td>\n",
              "      <td>...</td>\n",
              "      <td>...</td>\n",
              "      <td>...</td>\n",
              "      <td>...</td>\n",
              "    </tr>\n",
              "    <tr>\n",
              "      <th>2070</th>\n",
              "      <td>Зулейха открывает глаза</td>\n",
              "      <td>Гузель Яхина</td>\n",
              "      <td>4.6</td>\n",
              "      <td>24719</td>\n",
              "      <td>2103</td>\n",
              "      <td>5.0</td>\n",
              "      <td>0</td>\n",
              "      <td>1</td>\n",
              "      <td>243</td>\n",
              "      <td>0.441433</td>\n",
              "      <td>0.620840</td>\n",
              "      <td>0.222710</td>\n",
              "      <td>0.256842</td>\n",
              "      <td>0.000000</td>\n",
              "      <td>0.0</td>\n",
              "    </tr>\n",
              "    <tr>\n",
              "      <th>2071</th>\n",
              "      <td>Дети мои</td>\n",
              "      <td>Гузель Яхина</td>\n",
              "      <td>4.4</td>\n",
              "      <td>8032</td>\n",
              "      <td>702</td>\n",
              "      <td>4.0</td>\n",
              "      <td>0</td>\n",
              "      <td>0</td>\n",
              "      <td>186</td>\n",
              "      <td>0.355844</td>\n",
              "      <td>0.395649</td>\n",
              "      <td>0.281416</td>\n",
              "      <td>0.000000</td>\n",
              "      <td>0.201823</td>\n",
              "      <td>0.0</td>\n",
              "    </tr>\n",
              "    <tr>\n",
              "      <th>2072</th>\n",
              "      <td>Зулейха открывает глаза</td>\n",
              "      <td>Гузель Яхина</td>\n",
              "      <td>4.6</td>\n",
              "      <td>24719</td>\n",
              "      <td>2103</td>\n",
              "      <td>5.0</td>\n",
              "      <td>0</td>\n",
              "      <td>1</td>\n",
              "      <td>324</td>\n",
              "      <td>0.602169</td>\n",
              "      <td>0.701527</td>\n",
              "      <td>0.228166</td>\n",
              "      <td>0.182436</td>\n",
              "      <td>0.000000</td>\n",
              "      <td>0.0</td>\n",
              "    </tr>\n",
              "    <tr>\n",
              "      <th>2073</th>\n",
              "      <td>С неба упали три яблока</td>\n",
              "      <td>Наринэ Абгарян</td>\n",
              "      <td>4.8</td>\n",
              "      <td>1455</td>\n",
              "      <td>189</td>\n",
              "      <td>5.0</td>\n",
              "      <td>0</td>\n",
              "      <td>0</td>\n",
              "      <td>217</td>\n",
              "      <td>0.586561</td>\n",
              "      <td>0.485680</td>\n",
              "      <td>0.228166</td>\n",
              "      <td>0.233716</td>\n",
              "      <td>0.000000</td>\n",
              "      <td>0.0</td>\n",
              "    </tr>\n",
              "    <tr>\n",
              "      <th>2074</th>\n",
              "      <td>Лев Толстой: Бегство из рая</td>\n",
              "      <td>Павел Басинский</td>\n",
              "      <td>4.4</td>\n",
              "      <td>151</td>\n",
              "      <td>24</td>\n",
              "      <td>5.0</td>\n",
              "      <td>0</td>\n",
              "      <td>0</td>\n",
              "      <td>230</td>\n",
              "      <td>0.559792</td>\n",
              "      <td>0.839078</td>\n",
              "      <td>0.000000</td>\n",
              "      <td>0.629785</td>\n",
              "      <td>0.245095</td>\n",
              "      <td>0.0</td>\n",
              "    </tr>\n",
              "  </tbody>\n",
              "</table>\n",
              "<p>2075 rows × 15 columns</p>\n",
              "</div>\n",
              "      <button class=\"colab-df-convert\" onclick=\"convertToInteractive('df-98144fce-357d-4148-bcfc-b52fa5002164')\"\n",
              "              title=\"Convert this dataframe to an interactive table.\"\n",
              "              style=\"display:none;\">\n",
              "        \n",
              "  <svg xmlns=\"http://www.w3.org/2000/svg\" height=\"24px\"viewBox=\"0 0 24 24\"\n",
              "       width=\"24px\">\n",
              "    <path d=\"M0 0h24v24H0V0z\" fill=\"none\"/>\n",
              "    <path d=\"M18.56 5.44l.94 2.06.94-2.06 2.06-.94-2.06-.94-.94-2.06-.94 2.06-2.06.94zm-11 1L8.5 8.5l.94-2.06 2.06-.94-2.06-.94L8.5 2.5l-.94 2.06-2.06.94zm10 10l.94 2.06.94-2.06 2.06-.94-2.06-.94-.94-2.06-.94 2.06-2.06.94z\"/><path d=\"M17.41 7.96l-1.37-1.37c-.4-.4-.92-.59-1.43-.59-.52 0-1.04.2-1.43.59L10.3 9.45l-7.72 7.72c-.78.78-.78 2.05 0 2.83L4 21.41c.39.39.9.59 1.41.59.51 0 1.02-.2 1.41-.59l7.78-7.78 2.81-2.81c.8-.78.8-2.07 0-2.86zM5.41 20L4 18.59l7.72-7.72 1.47 1.35L5.41 20z\"/>\n",
              "  </svg>\n",
              "      </button>\n",
              "      \n",
              "  <style>\n",
              "    .colab-df-container {\n",
              "      display:flex;\n",
              "      flex-wrap:wrap;\n",
              "      gap: 12px;\n",
              "    }\n",
              "\n",
              "    .colab-df-convert {\n",
              "      background-color: #E8F0FE;\n",
              "      border: none;\n",
              "      border-radius: 50%;\n",
              "      cursor: pointer;\n",
              "      display: none;\n",
              "      fill: #1967D2;\n",
              "      height: 32px;\n",
              "      padding: 0 0 0 0;\n",
              "      width: 32px;\n",
              "    }\n",
              "\n",
              "    .colab-df-convert:hover {\n",
              "      background-color: #E2EBFA;\n",
              "      box-shadow: 0px 1px 2px rgba(60, 64, 67, 0.3), 0px 1px 3px 1px rgba(60, 64, 67, 0.15);\n",
              "      fill: #174EA6;\n",
              "    }\n",
              "\n",
              "    [theme=dark] .colab-df-convert {\n",
              "      background-color: #3B4455;\n",
              "      fill: #D2E3FC;\n",
              "    }\n",
              "\n",
              "    [theme=dark] .colab-df-convert:hover {\n",
              "      background-color: #434B5C;\n",
              "      box-shadow: 0px 1px 3px 1px rgba(0, 0, 0, 0.15);\n",
              "      filter: drop-shadow(0px 1px 2px rgba(0, 0, 0, 0.3));\n",
              "      fill: #FFFFFF;\n",
              "    }\n",
              "  </style>\n",
              "\n",
              "      <script>\n",
              "        const buttonEl =\n",
              "          document.querySelector('#df-98144fce-357d-4148-bcfc-b52fa5002164 button.colab-df-convert');\n",
              "        buttonEl.style.display =\n",
              "          google.colab.kernel.accessAllowed ? 'block' : 'none';\n",
              "\n",
              "        async function convertToInteractive(key) {\n",
              "          const element = document.querySelector('#df-98144fce-357d-4148-bcfc-b52fa5002164');\n",
              "          const dataTable =\n",
              "            await google.colab.kernel.invokeFunction('convertToInteractive',\n",
              "                                                     [key], {});\n",
              "          if (!dataTable) return;\n",
              "\n",
              "          const docLinkHtml = 'Like what you see? Visit the ' +\n",
              "            '<a target=\"_blank\" href=https://colab.research.google.com/notebooks/data_table.ipynb>data table notebook</a>'\n",
              "            + ' to learn more about interactive tables.';\n",
              "          element.innerHTML = '';\n",
              "          dataTable['output_type'] = 'display_data';\n",
              "          await google.colab.output.renderOutput(dataTable, element);\n",
              "          const docLink = document.createElement('div');\n",
              "          docLink.innerHTML = docLinkHtml;\n",
              "          element.appendChild(docLink);\n",
              "        }\n",
              "      </script>\n",
              "    </div>\n",
              "  </div>\n",
              "  "
            ]
          },
          "metadata": {},
          "execution_count": 66
        }
      ],
      "source": [
        "#X = df_test.drop(mass_label, axis = 1)\n",
        "RecordNo = df_test['RecordNo']\n",
        "x_valid = df_test.drop(object_label, axis = 1)\n",
        "\n",
        "x_valid.fillna(0)\n",
        "\n"
      ]
    },
    {
      "cell_type": "code",
      "execution_count": 67,
      "metadata": {
        "id": "rPH7Affa61mj"
      },
      "outputs": [],
      "source": [
        "x_valid=x_valid.fillna(0.0)"
      ]
    },
    {
      "cell_type": "code",
      "execution_count": 68,
      "metadata": {
        "id": "78QOreUW6kft",
        "colab": {
          "base_uri": "https://localhost:8080/"
        },
        "outputId": "5697e679-6307-4596-b6f2-62224d11f89d"
      },
      "outputs": [
        {
          "output_type": "stream",
          "name": "stdout",
          "text": [
            "<class 'pandas.core.frame.DataFrame'>\n",
            "Int64Index: 2075 entries, 0 to 2074\n",
            "Data columns (total 15 columns):\n",
            " #   Column                                Non-Null Count  Dtype  \n",
            "---  ------                                --------------  -----  \n",
            " 0   Название книги                        2075 non-null   object \n",
            " 1   Автор                                 2075 non-null   object \n",
            " 2   Рейтинг                               2075 non-null   float64\n",
            " 3   Количество оценок                     2075 non-null   int64  \n",
            " 4   Количество отзывов                    2075 non-null   int64  \n",
            " 5   Оценка книги читателем (из 5 баллов)  2075 non-null   float64\n",
            " 6   Лайки на отзыв                        2075 non-null   int64  \n",
            " 7   Дислайки на отзыв                     2075 non-null   int64  \n",
            " 8   len_reviews                           2075 non-null   int64  \n",
            " 9   Соответствие коду                     2075 non-null   float32\n",
            " 10  Наличие ценности                      2075 non-null   float64\n",
            " 11  positive                              2075 non-null   float64\n",
            " 12  neutral                               2075 non-null   float64\n",
            " 13  negative                              2075 non-null   float64\n",
            " 14  skip                                  2075 non-null   float64\n",
            "dtypes: float32(1), float64(7), int64(5), object(2)\n",
            "memory usage: 251.3+ KB\n"
          ]
        }
      ],
      "source": [
        "x_valid.info()"
      ]
    },
    {
      "cell_type": "code",
      "source": [
        "best_model_v = cv_v.best_estimator_\n",
        "best_model_r = cv_r.best_estimator_\n",
        "best_model_tr = cv_tr.best_estimator_\n",
        "best_model_tnr = cv_tnr.best_estimator_\n",
        "best_model_l = cv_l.best_estimator_"
      ],
      "metadata": {
        "id": "2sPPm-fEseIr"
      },
      "execution_count": 69,
      "outputs": []
    },
    {
      "cell_type": "code",
      "execution_count": 70,
      "metadata": {
        "id": "bCkpLwrY6j1v"
      },
      "outputs": [],
      "source": [
        "#pred=clf.predict(x_valid)\n",
        "pred_v=best_model_v.predict(x_valid)\n",
        "#pred[:,4] = pred_v"
      ]
    },
    {
      "cell_type": "code",
      "source": [
        "x_valid.shape"
      ],
      "metadata": {
        "colab": {
          "base_uri": "https://localhost:8080/"
        },
        "id": "mrd2Bs7mAgjz",
        "outputId": "577c9390-ad20-4086-95f8-9d18ce12be6a"
      },
      "execution_count": 71,
      "outputs": [
        {
          "output_type": "execute_result",
          "data": {
            "text/plain": [
              "(2075, 15)"
            ]
          },
          "metadata": {},
          "execution_count": 71
        }
      ]
    },
    {
      "cell_type": "code",
      "source": [
        "pred_v.shape"
      ],
      "metadata": {
        "colab": {
          "base_uri": "https://localhost:8080/"
        },
        "id": "BIWyOMExAkqP",
        "outputId": "c3b3437c-9c4d-497c-a753-920e3f163a13"
      },
      "execution_count": 72,
      "outputs": [
        {
          "output_type": "execute_result",
          "data": {
            "text/plain": [
              "(2075,)"
            ]
          },
          "metadata": {},
          "execution_count": 72
        }
      ]
    },
    {
      "cell_type": "code",
      "source": [
        "x_valid_v=x_valid.copy()\n",
        "x_valid_v.insert(15,\"Ценности предсказанные\",pred_v)\n",
        "pred_r = best_model_r.predict(x_valid_v)\n",
        "x_valid_r=x_valid_v.copy()\n",
        "x_valid_r.insert(16,\"Релевантность предсказанная\",pred_r)"
      ],
      "metadata": {
        "id": "zJKCjXsKAEiF"
      },
      "execution_count": 73,
      "outputs": []
    },
    {
      "cell_type": "code",
      "source": [
        "pred_tr = best_model_tr.predict(x_valid_r)\n",
        "pred_tnr = best_model_tnr.predict(x_valid_r)\n",
        "pred_l = best_model_l.predict(x_valid_r)"
      ],
      "metadata": {
        "id": "Bov8m4IkhP8l"
      },
      "execution_count": 74,
      "outputs": []
    },
    {
      "cell_type": "code",
      "source": [
        "#pred[:,0] = pred_r\n",
        "\n",
        "#pred[:,1] = pred_tr\n",
        "#pred[:,2] = pred_tnr\n",
        "#pred[:,3] = pred_l"
      ],
      "metadata": {
        "id": "zSOWjEaPAtOo"
      },
      "execution_count": 75,
      "outputs": []
    },
    {
      "cell_type": "code",
      "source": [
        "targets=np.array([pred_r,pred_tr,pred_tnr,pred_l,pred_v]).transpose()\n",
        "\n",
        "\n",
        "\n",
        "\n",
        "\n",
        "index = None \n",
        "#df = pd.DataFrame(targets, index, columns)"
      ],
      "metadata": {
        "id": "OAaXzGR63K0S"
      },
      "execution_count": 76,
      "outputs": []
    },
    {
      "cell_type": "code",
      "execution_count": 77,
      "metadata": {
        "id": "PE8y2fk77hPf"
      },
      "outputs": [],
      "source": [
        "df_pred = pd.DataFrame(targets, columns = ['Релевантность','Таксономия релевантные','Таксономия не релевантные','Длина отзыва','Ценности'])"
      ]
    },
    {
      "cell_type": "code",
      "execution_count": 78,
      "metadata": {
        "id": "OUers_Ug9xi2"
      },
      "outputs": [],
      "source": [
        "df_pred.insert(0,'RecordNo',RecordNo)\n"
      ]
    },
    {
      "cell_type": "code",
      "execution_count": 79,
      "metadata": {
        "id": "ND0w4frC7Hki"
      },
      "outputs": [],
      "source": [
        "df_pred.to_csv('/content/drive/MyDrive/hacks_ai_2022/Вологда/solution.csv',index=False)"
      ]
    }
  ],
  "metadata": {
    "colab": {
      "provenance": [],
      "collapsed_sections": [],
      "include_colab_link": true
    },
    "kernelspec": {
      "display_name": "Python 3",
      "name": "python3"
    },
    "language_info": {
      "name": "python"
    }
  },
  "nbformat": 4,
  "nbformat_minor": 0
}